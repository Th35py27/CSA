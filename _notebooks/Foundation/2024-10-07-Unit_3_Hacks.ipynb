{
 "cells": [
  {
   "cell_type": "markdown",
   "metadata": {},
   "source": [
    "# Hack 1"
   ]
  },
  {
   "cell_type": "code",
   "execution_count": null,
   "metadata": {},
   "outputs": [],
   "source": [
    "// 3.1 Hacks\n",
    "\n",
    "// 1. True\n",
    "// 2. True\n",
    "// 3. True\n",
    "// 4. False\n",
    "// 5. False\n",
    "// 6. True"
   ]
  },
  {
   "cell_type": "markdown",
   "metadata": {
    "vscode": {
     "languageId": "bat"
    }
   },
   "source": [
    "# Popcorn Hack "
   ]
  },
  {
   "cell_type": "code",
   "execution_count": 8,
   "metadata": {},
   "outputs": [
    {
     "name": "stdout",
     "output_type": "stream",
     "text": [
      "Current age: 1\n",
      "On your next birthday, you will be 2 years old!\n"
     ]
    }
   ],
   "source": [
    "public static void main(String[] args) {\n",
    "    int myAge = 1;\n",
    "    System.out.println(\"Current age: \" + myAge);\n",
    "    \n",
    "    if (myAge >= 16) {\n",
    "        System.out.println(\"You can start learning to drive!\");\n",
    "    }\n",
    "\n",
    "    System.out.println(\"On your next birthday, you will be \" + (myAge + 1) + \" years old!\"); // This would be printed out if less than 16 years old\n",
    "}\n",
    "\n",
    "main(null);"
   ]
  },
  {
   "cell_type": "code",
   "execution_count": 10,
   "metadata": {},
   "outputs": [
    {
     "name": "stdout",
     "output_type": "stream",
     "text": [
      "You still have money remaining\n"
     ]
    }
   ],
   "source": [
    "public static void main(String[] args) {\n",
    "    double budget = 10;\n",
    "    \n",
    "    \n",
    "    if (budget >= 10.50) {\n",
    "        System.out.println(\"You have either exceed or used up all of your money.\");\n",
    "    } else{\n",
    "        System.out.println(\"You still have money remaining\");\n",
    "    }\n",
    "} \n",
    "\n",
    "main(null);"
   ]
  },
  {
   "cell_type": "markdown",
   "metadata": {
    "vscode": {
     "languageId": "java"
    }
   },
   "source": [
    "# 3.4 Popcorn Hacks"
   ]
  },
  {
   "cell_type": "code",
   "execution_count": 12,
   "metadata": {},
   "outputs": [
    {
     "name": "stdout",
     "output_type": "stream",
     "text": [
      "This is within your budget\n"
     ]
    }
   ],
   "source": [
    "\n",
    "// 1. 19 would print out \"You can register to vote\" and \"You are old enough for a license to drive\"\n",
    "\n",
    "// 2. 13 is not greater than any of the values, so nothing will be printed as a result. \n",
    "\n",
    "\n",
    "\n",
    "int balance = 10;\n",
    "\n",
    "if (balance > 10){\n",
    "    System.out.println(\"This is out of your budget\");\n",
    "}\n",
    "else if (balance <= 10){\n",
    "    System.out.println(\"This is within your budget\");\n",
    "}"
   ]
  },
  {
   "cell_type": "markdown",
   "metadata": {
    "vscode": {
     "languageId": "java"
    }
   },
   "source": [
    "# 3.5 Hacks "
   ]
  },
  {
   "cell_type": "code",
   "execution_count": null,
   "metadata": {},
   "outputs": [],
   "source": [
    "\n",
    "// Using the certain characteristics, such as age, income, or if they are a student, various memberships and discounts are awarded.\n",
    "\n",
    "// Output for the program will be \"You are eligible for a Student Discount.\""
   ]
  },
  {
   "cell_type": "code",
   "execution_count": 19,
   "metadata": {},
   "outputs": [
    {
     "name": "stdout",
     "output_type": "stream",
     "text": [
      "Nothing approved\n"
     ]
    }
   ],
   "source": [
    "public class Main {\n",
    "    public static void main(String[] args) {\n",
    "        int age = 18; // Change this value for testing\n",
    "        boolean isStudent = false; // Change this value for testing\n",
    "\n",
    "        if (age >= 18 && isStudent == true){\n",
    "            System.out.println(\"Discount approved\");\n",
    "            if (age >= 30 && isStudent == true){\n",
    "                System.out.println(\"Full ride scholarship since you are over 30\");\n",
    "            }\n",
    "        }\n",
    "        else if (age < 18 && isStudent == false){\n",
    "            System.out.println(\"Discount not approved\");\n",
    "        }\n",
    "        else if (age > 18 && isStudent == false){\n",
    "            System.out.println(\"Discount not approved\");\n",
    "        }\n",
    "        else{\n",
    "            System.out.println(\"Nothing approved\");\n",
    "        }\n",
    "    }\n",
    "}\n",
    "\n",
    "Main.main(null);"
   ]
  },
  {
   "cell_type": "markdown",
   "metadata": {
    "vscode": {
     "languageId": "java"
    }
   },
   "source": [
    "# 3.6 Hacks"
   ]
  },
  {
   "cell_type": "markdown",
   "metadata": {
    "vscode": {
     "languageId": "java"
    }
   },
   "source": [
    "- !(x==0) is the same as (x != 0)\n",
    "- (x < -5 || x > 10) is equivalent to !(x >= -5 && x <= 10)"
   ]
  },
  {
   "cell_type": "markdown",
   "metadata": {},
   "source": [
    "# 3.7 Hacks"
   ]
  },
  {
   "cell_type": "markdown",
   "metadata": {
    "vscode": {
     "languageId": "java"
    }
   },
   "source": [
    "- Yes, Sharon's house and myhouse will be the same since they input the same values. "
   ]
  },
  {
   "cell_type": "markdown",
   "metadata": {
    "vscode": {
     "languageId": "java"
    }
   },
   "source": [
    "# 3.8 Homework"
   ]
  },
  {
   "cell_type": "code",
   "execution_count": 29,
   "metadata": {},
   "outputs": [
    {
     "name": "stdout",
     "output_type": "stream",
     "text": [
      "Enter age:\n",
      "Enter income:\n",
      "Are you a student (yes or no)?\n",
      "What is your employment type (full-time, part-time, unemployed)?\n",
      "You do not qualify for any memberships or discounts.\n"
     ]
    }
   ],
   "source": [
    "import java.util.Scanner; \n",
    "\n",
    "public class Main{\n",
    "    public static void main(String args[]){\n",
    "        Scanner scanner = new Scanner(System.in);  \n",
    "        \n",
    "        System.out.println(\"Enter age:\");\n",
    "        int age = scanner.nextInt();\n",
    "        \n",
    "        if (age <= 0) {\n",
    "            System.out.println(\"Invalid input for age. Please enter a positive integer.\");\n",
    "            return;\n",
    "        }\n",
    "        \n",
    "        System.out.println(\"Enter income:\");\n",
    "        double income = scanner.nextDouble();\n",
    "        \n",
    "        if (income <= 0) {\n",
    "            System.out.println(\"Invalid input for income. Please enter a positive value.\");\n",
    "            return;\n",
    "        }\n",
    "\n",
    "        scanner.nextLine(); \n",
    "        \n",
    "        System.out.println(\"Are you a student (yes or no)?\");\n",
    "        String studentStatus = scanner.nextLine().trim().toLowerCase();\n",
    "        \n",
    "        if (!studentStatus.equals(\"yes\") && !studentStatus.equals(\"no\")) {\n",
    "            System.out.println(\"Invalid input for student status. Please enter 'yes' or 'no'.\");\n",
    "            return;\n",
    "        }\n",
    "        \n",
    "        System.out.println(\"What is your employment type (full-time, part-time, unemployed)?\");\n",
    "        String employmentType = scanner.nextLine().trim().toLowerCase();\n",
    "        \n",
    "        if (!employmentType.equals(\"full-time\") && !employmentType.equals(\"part-time\") && !employmentType.equals(\"unemployed\")) {\n",
    "            System.out.println(\"Invalid input for employment type. Please enter 'full-time', 'part-time', or 'unemployed'.\");\n",
    "            return;\n",
    "        }\n",
    "\n",
    "        boolean qualifiesForSeniorDiscount = age >= 65;\n",
    "        boolean qualifiesForStudentDiscount = studentStatus.equals(\"yes\");\n",
    "        boolean qualifiesForBasicMembership = age >= 18 && income >= 20,000;\n",
    "        boolean qualifiesForPremiumMembership = age >= 25 && income >= 50,000;\n",
    "\n",
    "        if (qualifiesForSeniorDiscount) {\n",
    "            System.out.println(\"You qualify for the Senior Discount.\");\n",
    "        }\n",
    "        else if (qualifiesForPremiumMembership){\n",
    "            System.out.println(\"You qualify for Premium Membership\");\n",
    "        }\n",
    "        else if (qualifiesForStudentDiscount) {\n",
    "            System.out.println(\"You qualify for the Student Discount.\");\n",
    "        }\n",
    "        else if (qualifiesForBasicMembership){\n",
    "            System.out.println(\"You qualify for Basic Membership\");\n",
    "        }     \n",
    "        else {\n",
    "            System.out.println(\"You do not qualify for any memberships or discounts.\");\n",
    "        }\n",
    "    }\n",
    "}\n",
    "\n",
    "Main.main(null);\n"
   ]
  }
 ],
 "metadata": {
  "kernelspec": {
   "display_name": "Java",
   "language": "java",
   "name": "java"
  },
  "language_info": {
   "codemirror_mode": "java",
   "file_extension": ".jshell",
   "mimetype": "text/x-java-source",
   "name": "java",
   "pygments_lexer": "java",
   "version": "17.0.12+7-Ubuntu-1ubuntu222.04"
  }
 },
 "nbformat": 4,
 "nbformat_minor": 2
}

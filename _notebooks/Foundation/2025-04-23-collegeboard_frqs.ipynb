{
 "cells": [
  {
   "cell_type": "markdown",
   "id": "de9eda10",
   "metadata": {},
   "source": [
    "---\n",
    "layout: post\n",
    "title: FRQ Answers and Corrections (2020)\n",
    "type: ccc\n",
    "toc: True\n",
    "courses: {'csa': {'week': 13}}\n",
    "comments: True\n",
    "---\n"
   ]
  },
  {
   "cell_type": "code",
   "execution_count": null,
   "id": "fa6bec13",
   "metadata": {
    "vscode": {
     "languageId": "java"
    }
   },
   "outputs": [],
   "source": [
    "// Problem 1a\n",
    "\n",
    "public class Hailstone{\n",
    "    public static int hailstoneLength(int n){\n",
    "        int length = 0; \n",
    "        while (n > 1) {\n",
    "            if (n % 2 == 0) {\n",
    "                n = n / 2; \n",
    "            } else {\n",
    "                n = 3 * n + 1; \n",
    "            }\n",
    "            length++; \n",
    "        }\n",
    "        return length; \n",
    "    }\n",
    "}"
   ]
  },
  {
   "cell_type": "code",
   "execution_count": null,
   "id": "e7c2117a",
   "metadata": {
    "vscode": {
     "languageId": "java"
    }
   },
   "outputs": [],
   "source": [
    "// Problem 1b\n",
    "\n",
    "public class Hailstone{\n",
    "    public static boolean isLongSeq(int n){\n",
    "        if (n == 1) {\n",
    "            return false; \n",
    "        }\n",
    "        int length = hailstoneLength(n);\n",
    "        return length > n;\n",
    "}"
   ]
  },
  {
   "cell_type": "code",
   "execution_count": null,
   "id": "e93ace13",
   "metadata": {
    "vscode": {
     "languageId": "java"
    }
   },
   "outputs": [],
   "source": [
    "// Problem 1c\n",
    "public class Hailstone{\n",
    "    public static double propLong(int n){\n",
    "        int count = 0; \n",
    "        for (int i = 1; i <= n; i++) {\n",
    "            if (isLongSeq(i)) {\n",
    "                count++; \n",
    "            }\n",
    "        }\n",
    "        return (double) count / n; \n",
    "\n",
    "    }\n",
    "}"
   ]
  },
  {
   "cell_type": "code",
   "execution_count": null,
   "id": "1f8dda05",
   "metadata": {
    "vscode": {
     "languageId": "java"
    }
   },
   "outputs": [],
   "source": [
    "// Problem 2\n",
    "\n",
    "public class GameSpinner{\n",
    "    private int n;\n",
    "    private int currentValue;\n",
    "\n",
    "    public GameSpinner(int n){\n",
    "        this.n = n; \n",
    "        this.currentValue = 0; \n",
    "    }\n",
    "    public int spin(int n){\n",
    "        currentValue = (int) (Math.random() * n) + 1; \n",
    "        return currentValue; \n",
    "    }\n",
    "    public int currentRun(){\n",
    "        return currentValue + 1; \n",
    "    }\n",
    "\n",
    "}\n",
    "\n"
   ]
  },
  {
   "cell_type": "code",
   "execution_count": null,
   "id": "09e7084b",
   "metadata": {
    "vscode": {
     "languageId": "java"
    }
   },
   "outputs": [],
   "source": [
    "// Problem 3a\n",
    "\n",
    "public class ReviewCollector{\n",
    "    private ArrayList<ProductReview> reviewList;\n",
    "    private ArrayList<String> productList;\n",
    "    public ReviewCollector(){\n",
    "        reviewList = new ArrayList<ProductReview>();\n",
    "        productList = new ArrayList<String>();\n",
    "    }\n",
    "    public void addReview(ProductReview prodReview){\n",
    "        reviewList.add(prodReview);\n",
    "        String product = prodReview.getProduct();\n",
    "        for (i = 0; i < productList.size(); i++) {\n",
    "            if (!productList.contains(product)) {\n",
    "                productList.add(product);\n",
    "        }\n",
    "    }\n",
    "\n",
    "    // Problem 3b\n",
    "    public int getNumGoodReviews(String prodName){\n",
    "        int count = 0;\n",
    "        for (ProductReview review : reviewList) {\n",
    "            if (review.getProduct().equals(prodName) && addReview.getProduct.contains(\"good\")) {\n",
    "                count++;\n",
    "            }\n",
    "        }\n",
    "    \n",
    "    }\n",
    "\n",
    "}\n"
   ]
  }
 ],
 "metadata": {
  "language_info": {
   "name": "python"
  }
 },
 "nbformat": 4,
 "nbformat_minor": 5
}

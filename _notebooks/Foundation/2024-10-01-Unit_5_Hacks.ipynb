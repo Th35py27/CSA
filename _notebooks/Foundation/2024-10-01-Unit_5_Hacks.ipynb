{
 "cells": [
  {
   "cell_type": "code",
   "execution_count": null,
   "metadata": {
    "vscode": {
     "languageId": "java"
    }
   },
   "outputs": [],
   "source": [
    "// Popcorn Hack 1\n",
    "\n",
    "public class Student {\n",
    "    private String name;\n",
    "    private int score;\n",
    "    \n",
    "    // Default constructor\n",
    "    public Student() {\n",
    "        name = \"\";\n",
    "        score = 0;   \n",
    "    }\n",
    "\n",
    "    // Overloaded constructor\n",
    "    public Student(String n, int s) {\n",
    "        name = n;\n",
    "        score = s;\n",
    "    }\n",
    "\n",
    "    //Accessor Methods\n",
    "    public String getName() {\n",
    "        return name;\n",
    "    }\n",
    "\n",
    "    public int getScore(){\n",
    "        return score;\n",
    "    }\n",
    "\n",
    "    //Mutator Methods\n",
    "    public void setName(String n){\n",
    "        name = n;\n",
    "    }\n",
    "\n",
    "    public void setScore(int s){\n",
    "        if(s < 0 || s > 100){\n",
    "            score = 0; //default value\n",
    "        }\n",
    "        else {\n",
    "            score = s;\n",
    "        }\n",
    "    }\n",
    "\n",
    "    public boolean pass(){\n",
    "        return (score >= 70);\n",
    "    }\n",
    "}\n",
    "\n"
   ]
  },
  {
   "cell_type": "code",
   "execution_count": 5,
   "metadata": {
    "vscode": {
     "languageId": "java"
    }
   },
   "outputs": [
    {
     "name": "stdout",
     "output_type": "stream",
     "text": [
      "No arg is monkey\n"
     ]
    }
   ],
   "source": [
    "// Popcorn Hack 2\n",
    "\n",
    "\n",
    "// no-arg\n",
    "class Animal\n",
    "{\n",
    "    String animal;\n",
    "\n",
    "    // constructor\n",
    "    public Animal() {\n",
    "        animal = \"monkey\"; \n",
    "    }\n",
    "}\n",
    "\n",
    "Animal animals = new Animal();\n",
    "System.out.println(\"No arg is \" + animals.animal);\n",
    "\n",
    "\n"
   ]
  },
  {
   "cell_type": "code",
   "execution_count": 1,
   "metadata": {
    "vscode": {
     "languageId": "java"
    }
   },
   "outputs": [
    {
     "name": "stdout",
     "output_type": "stream",
     "text": [
      "Stuart\n",
      "Developing propulsion system\n",
      "Good\n"
     ]
    }
   ],
   "source": [
    "// Popcorn Hack \n",
    "\n",
    "public class Minion {\n",
    "    private String name;\n",
    "    private String task;\n",
    "    private String skillLevel; \n",
    "    \n",
    "    // Create  skillLevel instance variable\n",
    "\n",
    "    public Minion(String n, String t, String s)\n",
    "    {\n",
    "        name = n;\n",
    "        task = t;\n",
    "        skillLevel = s;\n",
    "    }\n",
    "    // Getter Methods\n",
    "    public String getName()\n",
    "    {\n",
    "        return name;\n",
    "    }\n",
    "    public String getTask()\n",
    "    {\n",
    "        return task;\n",
    "    }\n",
    "\n",
    "    public String skillLevel(){\n",
    "        return skillLevel; \n",
    "\n",
    "    }\n",
    "}\n",
    "Minion Stuart = new Minion(\"Stuart\", \"Developing propulsion system\", \"Good\");\n",
    "System.out.println(Stuart.getName());\n",
    "System.out.println(Stuart.getTask());\n",
    "System.out.println(Stuart.skillLevel());"
   ]
  },
  {
   "cell_type": "code",
   "execution_count": 6,
   "metadata": {
    "vscode": {
     "languageId": "java"
    }
   },
   "outputs": [
    {
     "name": "stdout",
     "output_type": "stream",
     "text": [
      "frog\n",
      "axolotl\n"
     ]
    }
   ],
   "source": [
    "// Popcorn Hacks\n",
    "\n",
    "\n",
    "public class Info{\n",
    "    private String amphibian;\n",
    "\n",
    "    public Info(String a) {\n",
    "        amphibian = a;\n",
    "    }\n",
    "\n",
    "    // getter\n",
    "    public String getName() {\n",
    "        return amphibian;\n",
    "    }\n",
    "\n",
    "    // setter\n",
    "    public void setName(String a) {\n",
    "        amphibian = a;\n",
    "    }\n",
    "}\n",
    "\n",
    "Info amphibians = new Info(\"frog\");\n",
    "\n",
    "System.out.println(amphibians.getName()); // get the name\n",
    "amphibians.setName(\"axolotl\");\n",
    "System.out.println(amphibians.getName());"
   ]
  },
  {
   "cell_type": "code",
   "execution_count": 25,
   "metadata": {
    "vscode": {
     "languageId": "java"
    }
   },
   "outputs": [
    {
     "name": "stdout",
     "output_type": "stream",
     "text": [
      "The color of the minion is Yellow, and the new energy level is 10.0\n",
      "No recovery needed for minion Bob. Energy level is sufficient.\n",
      "No recovery needed for minion Sheesh. Energy level is sufficient.\n",
      "Minion{name='Kevin', color='Yellow', energy_level=6.0, gadgets=true, hair=false, height=0.5}\n",
      "Minion{name='Bob', color='Yellow', energy_level=12.0, gadgets=false, hair=true, height=2.5}\n",
      "Minion{name='Sheesh', color='Yellow', energy_level=14.0, gadgets=true, hair=false, height=5.6}\n",
      "Average Energy Level: 10.67\n"
     ]
    }
   ],
   "source": [
    "//Homework Hacks\n",
    "\n",
    "public class Minion {\n",
    "    String color;\n",
    "    String name;\n",
    "    double energy_level; \n",
    "    boolean gadgets;\n",
    "    boolean hair;\n",
    "    double height;\n",
    "\n",
    "    private static double Total = 0;\n",
    "    private static int count = 0; \n",
    "\n",
    "    public Minion() {\n",
    "        this.color = \"Yellow\";\n",
    "        this.name = \"Bob\";\n",
    "        this.energy_level = 5.0;\n",
    "        this.gadgets = false;\n",
    "        this.hair = true;\n",
    "        this.height = 1.7;\n",
    "    }\n",
    "\n",
    "    public Minion(String color, String name, double energy_level, boolean gadgets, boolean hair, double height) {\n",
    "        this.color = color;\n",
    "        this.name = name;\n",
    "        this.energy_level = energy_level;\n",
    "        this.gadgets = gadgets;\n",
    "        this.hair = hair;\n",
    "        this.height = height;\n",
    "\n",
    "        updateTotal(this.energy_level);\n",
    "        System.out.println(RecoveryTime());\n",
    "    }\n",
    "\n",
    "    private static void updateTotal(double energy) {\n",
    "        Total += energy; \n",
    "        count++; \n",
    "    }\n",
    "\n",
    "    public static double Average() {\n",
    "        if (count == 0) return 0; \n",
    "        return Total / count; \n",
    "    }\n",
    "\n",
    "    public String RecoveryTime() {\n",
    "        if (color.equals(\"purple\") || energy_level < 10.0) {  \n",
    "            double level = energy_level + 4.0;\n",
    "            return \"The color of the minion is \" + color + \", and the new energy level is \" + level;\n",
    "        } else {\n",
    "            return \"No recovery needed for minion \" + name + \". Energy level is sufficient.\";\n",
    "        }\n",
    "    }\n",
    "\n",
    "    public String toString() {\n",
    "        return \"Minion{name='\" + name + \"', color='\" + color + \"', energy_level=\" + energy_level +\n",
    "               \", gadgets=\" + gadgets + \", hair=\" + hair + \", height=\" + height + \"}\";\n",
    "    }\n",
    "\n",
    "    public static void main(String[] args) {\n",
    "        Minion minion1 = new Minion(\"Yellow\", \"Kevin\", 6.0, true, false, 0.5);\n",
    "        Minion minion2 = new Minion(\"Yellow\", \"Bob\", 12.0, false, true, 2.5);\n",
    "        Minion minion3 = new Minion(\"Purple\", \"Sheesh\", 14.0, true, false, 5.6);\n",
    "\n",
    "        System.out.println(minion1);\n",
    "        System.out.println(minion2);\n",
    "        System.out.println(minion3);\n",
    "\n",
    "        System.out.printf(\"Average Energy Level: %.2f%n\", Minion.Average());\n",
    "\n",
    "        System.out.println(minion1.RecoveryTime());\n",
    "        System.out.println(minion2.RecoveryTime());\n",
    "        System.out.println(minion3.RecoveryTime());\n",
    "    }\n",
    "}\n",
    "\n",
    "Main.main(null);"
   ]
  }
 ],
 "metadata": {
  "kernelspec": {
   "display_name": "Java",
   "language": "java",
   "name": "java"
  },
  "language_info": {
   "codemirror_mode": "java",
   "file_extension": ".jshell",
   "mimetype": "text/x-java-source",
   "name": "Java",
   "pygments_lexer": "java",
   "version": "17.0.12+7-Ubuntu-1ubuntu222.04"
  }
 },
 "nbformat": 4,
 "nbformat_minor": 2
}

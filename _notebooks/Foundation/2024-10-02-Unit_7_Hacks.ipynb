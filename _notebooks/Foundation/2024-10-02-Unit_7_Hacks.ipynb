{
 "cells": [
  {
   "cell_type": "code",
   "execution_count": 3,
   "metadata": {},
   "outputs": [
    {
     "name": "stdout",
     "output_type": "stream",
     "text": [
      "5\n"
     ]
    }
   ],
   "source": [
    "//Popcorn hack 1\n",
    "\n",
    "ArrayList<String> fruits = new ArrayList<>();\n",
    "\n",
    "fruits.add(\"Apple\");\n",
    "fruits.add(\"Banana\");\n",
    "fruits.add(\"Cherry\");\n",
    "fruits.add(\"Date\");\n",
    "fruits.add(\"Elderberry\");\n",
    "\n",
    "int size = fruits.size();\n",
    "System.out.println(size);\n",
    "\n",
    "fruits.set(2, \"Grape\");\n",
    "\n",
    "System.out.println()"
   ]
  },
  {
   "cell_type": "code",
   "execution_count": 14,
   "metadata": {},
   "outputs": [
    {
     "name": "stdout",
     "output_type": "stream",
     "text": [
      "The Sum is 19\n"
     ]
    }
   ],
   "source": [
    "//Popcorn Hack 2\n",
    "\n",
    "public class ArrayListHacks {\n",
    "    private int findSum(ArrayList<Integer> values) {\n",
    "        int sum = 0;\n",
    "        for (int num : values){\n",
    "            sum += num;\n",
    "        }\n",
    "        System.out.println(\"The Sum is\" + \" \" + sum);\n",
    "        return 0;\n",
    "    }\n",
    "\n",
    "    public static void main(String[] args) {\n",
    "        ArrayList<Integer> nums = new ArrayList<>();\n",
    "        nums.add(0);\n",
    "        nums.add(1);\n",
    "        nums.add(2);\n",
    "        nums.add(3);\n",
    "        nums.add(5);\n",
    "        nums.add(8);\n",
    "\n",
    "        ArrayListHacks hacks = new ArrayListHacks();\n",
    "        hacks.findSum(nums);\n",
    "    }\n",
    "}\n",
    "\n",
    "ArrayListHacks.main(null);"
   ]
  },
  {
   "cell_type": "code",
   "execution_count": null,
   "metadata": {},
   "outputs": [],
   "source": [
    "//Popcorn Hack\n",
    "\n",
    "public Class Ducks {\n",
    "    public static void insertionSort(ArrayList<double> weightList ) {\n",
    "        \n",
    "    }\n",
    "\n",
    "\n",
    "    public static void main(String[] args) {\n",
    "        // Create an ArrayList to store the integers we want to sort\n",
    "        \n",
    "    }\n",
    "\n",
    "}\n"
   ]
  }
 ],
 "metadata": {
  "kernelspec": {
   "display_name": "Java",
   "language": "java",
   "name": "java"
  },
  "language_info": {
   "codemirror_mode": "java",
   "file_extension": ".jshell",
   "mimetype": "text/x-java-source",
   "name": "java",
   "pygments_lexer": "java",
   "version": "17.0.12+7-Ubuntu-1ubuntu222.04"
  }
 },
 "nbformat": 4,
 "nbformat_minor": 2
}

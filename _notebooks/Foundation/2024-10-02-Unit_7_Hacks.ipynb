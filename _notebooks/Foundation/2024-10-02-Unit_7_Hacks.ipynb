{
 "cells": [
  {
   "cell_type": "code",
   "execution_count": 3,
   "metadata": {
    "vscode": {
     "languageId": "java"
    }
   },
   "outputs": [
    {
     "name": "stdout",
     "output_type": "stream",
     "text": [
      "5\n"
     ]
    }
   ],
   "source": [
    "//Popcorn hack 1\n",
    "\n",
    "ArrayList<String> fruits = new ArrayList<>();\n",
    "\n",
    "fruits.add(\"Apple\");\n",
    "fruits.add(\"Banana\");\n",
    "fruits.add(\"Cherry\");\n",
    "fruits.add(\"Date\");\n",
    "fruits.add(\"Elderberry\");\n",
    "\n",
    "int size = fruits.size();\n",
    "System.out.println(size);\n",
    "\n",
    "fruits.set(2, \"Grape\");\n",
    "\n",
    "System.out.println()"
   ]
  },
  {
   "cell_type": "code",
   "execution_count": 14,
   "metadata": {
    "vscode": {
     "languageId": "java"
    }
   },
   "outputs": [
    {
     "name": "stdout",
     "output_type": "stream",
     "text": [
      "The Sum is 19\n"
     ]
    }
   ],
   "source": [
    "//Popcorn Hack 2\n",
    "\n",
    "public class ArrayListHacks {\n",
    "    private int findSum(ArrayList<Integer> values) {\n",
    "        int sum = 0;\n",
    "        for (int num : values){\n",
    "            sum += num;\n",
    "        }\n",
    "        System.out.println(\"The Sum is\" + \" \" + sum);\n",
    "        return 0;\n",
    "    }\n",
    "\n",
    "    public static void main(String[] args) {\n",
    "        ArrayList<Integer> nums = new ArrayList<>();\n",
    "        nums.add(0);\n",
    "        nums.add(1);\n",
    "        nums.add(2);\n",
    "        nums.add(3);\n",
    "        nums.add(5);\n",
    "        nums.add(8);\n",
    "\n",
    "        ArrayListHacks hacks = new ArrayListHacks();\n",
    "        hacks.findSum(nums);\n",
    "    }\n",
    "}\n",
    "\n",
    "ArrayListHacks.main(null);"
   ]
  },
  {
   "cell_type": "code",
   "execution_count": 5,
   "metadata": {
    "vscode": {
     "languageId": "java"
    }
   },
   "outputs": [
    {
     "name": "stdout",
     "output_type": "stream",
     "text": [
      "Sorted Ducks by weight:\n",
      "Duck D: 1.9 kg\n",
      "Duck B: 2.1 kg\n",
      "Duck A: 4.5 kg\n",
      "Duck C: 5.0 kg\n"
     ]
    }
   ],
   "source": [
    "//Popcorn Hack\n",
    "\n",
    "public class DebugDuck {\n",
    "    double[] weights;\n",
    "    char[] labels;\n",
    "\n",
    "    public DebugDuck(double[] weights) {\n",
    "        this.weights = weights;\n",
    "        this.labels = new char[weights.length];\n",
    "        for (int i = 0; i < weights.length; i++) {\n",
    "            this.labels[i] = (char) ('A' + i);\n",
    "        }\n",
    "    }\n",
    "\n",
    "    public void Sorting() {\n",
    "        for (int i = 0; i < weights.length - 1; i++) {\n",
    "            int minValue = i;\n",
    "            for (int j = i + 1; j < weights.length; j++) {\n",
    "                if (weights[j] < weights[minValue]) {\n",
    "                    minValue = j;\n",
    "                }\n",
    "            }\n",
    "            if (minValue != i) {\n",
    "                double tempWeight = weights[i];\n",
    "                weights[i] = weights[minValue];\n",
    "                weights[minValue] = tempWeight;\n",
    "\n",
    "                char tempLabel = labels[i];\n",
    "                labels[i] = labels[minValue];\n",
    "                labels[minValue] = tempLabel;\n",
    "            }\n",
    "        }\n",
    "    }\n",
    "\n",
    "    public void printSortedDucks() {\n",
    "        System.out.println(\"Sorted Ducks by weight:\");\n",
    "        for (int i = 0; i < weights.length; i++) {\n",
    "            System.out.println(\"Duck \" + labels[i] + \": \" + weights[i] + \" kg\");\n",
    "        }\n",
    "    }\n",
    "\n",
    "    public static void main(String[] args) {\n",
    "        double[] weights = {4.5, 2.1, 5.0, 1.9};\n",
    "        DebugDuck ducks = new DebugDuck(weights);\n",
    "        ducks.Sorting();\n",
    "        ducks.printSortedDucks();\n",
    "    }\n",
    "}\n",
    "\n",
    "DebugDuck.main(null);"
   ]
  },
  {
   "cell_type": "code",
   "execution_count": 39,
   "metadata": {
    "vscode": {
     "languageId": "java"
    }
   },
   "outputs": [
    {
     "name": "stdout",
     "output_type": "stream",
     "text": [
      "[1, 100, 3, 4, 5]\n",
      "[1, 100, 4, 5]\n",
      "List does not contain 30\n",
      "Part 5\n",
      "1\n",
      "100\n",
      "4\n",
      "5\n",
      "1\n",
      "100\n",
      "4\n",
      "5\n",
      "[1, 4, 5, 100]\n"
     ]
    }
   ],
   "source": [
    "//Homework Hacks\n",
    "\n",
    "ArrayList<Integer> numbers = new ArrayList<>();\n",
    "\n",
    "// Part 1\n",
    "numbers.add(1);\n",
    "numbers.add(2);\n",
    "numbers.add(3);\n",
    "numbers.add(4);\n",
    "numbers.add(5);\n",
    "\n",
    "// Part 2\n",
    "numbers.set(1,100);\n",
    "System.out.println(numbers);\n",
    "\n",
    "// Part 3\n",
    "numbers.remove(2);\n",
    "System.out.println(numbers);\n",
    "\n",
    "// Part 4\n",
    "if (numbers.contains(30) == true){ // This element is a boolean so keep remembering this\n",
    "    System.out.println(\"List contains 30\");\n",
    "\n",
    "} else {\n",
    "    System.out.println(\"List does not contain 30\");\n",
    "}\n",
    "\n",
    "\n",
    "// Part 5\n",
    "System.out.println(\"Part 5\");\n",
    "// Enhanced for loop\n",
    "for (int number : numbers){\n",
    "    System.out.println(number); \n",
    "}\n",
    "\n",
    "// Normal for loop\n",
    "\n",
    "for (int i = 0; i < numbers.size(); i++) { \n",
    "    System.out.println(numbers.get(i)); \n",
    "}\n",
    "\n",
    "//Part 6 and 7\n",
    "\n",
    "Collections.sort(numbers);\n",
    "System.out.println(numbers); "
   ]
  }
 ],
 "metadata": {
  "kernelspec": {
   "display_name": "Java",
   "language": "java",
   "name": "java"
  },
  "language_info": {
   "codemirror_mode": "java",
   "file_extension": ".jshell",
   "mimetype": "text/x-java-source",
   "name": "Java",
   "pygments_lexer": "java",
   "version": "17.0.12+7-Ubuntu-1ubuntu222.04"
  }
 },
 "nbformat": 4,
 "nbformat_minor": 2
}

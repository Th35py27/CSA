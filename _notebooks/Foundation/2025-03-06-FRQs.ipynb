{
 "cells": [
  {
   "cell_type": "markdown",
   "metadata": {},
   "source": [
    "---\n",
    "layout: post\n",
    "title: FRQs\n",
    "type: ccc\n",
    "toc: True\n",
    "courses: {'csa': {'week': 18}}\n",
    "comments: True\n",
    "---\n",
    "\n",
    "# 2014 FRQ"
   ]
  },
  {
   "cell_type": "code",
   "execution_count": null,
   "metadata": {},
   "outputs": [
    {
     "ename": "CompilationException",
     "evalue": "",
     "output_type": "error",
     "traceback": [
      "\u001b[1m\u001b[30m|   \u001b[1m\u001b[30m\u001b[0m\u001b[1m\u001b[30m\u001b[41mMain\u001b[0m\u001b[1m\u001b[30m.main(null);\u001b[0m",
      "\u001b[1m\u001b[31mcannot find symbol\u001b[0m",
      "\u001b[1m\u001b[31m  symbol:   variable Main\u001b[0m",
      ""
     ]
    }
   ],
   "source": [
    "// Question 1\n",
    "\n",
    "public class WordScrambler {\n",
    "    private String[] scrambledWords;\n",
    "\n",
    "    public WordScrambler(String[] wordArr){\n",
    "        scrambledWords = mixedWords(wordArr);\n",
    "    }\n",
    "\n",
    "    private String recombine(String word1, String word2){\n",
    "        firstLength = word1.length(); \n",
    "        secondLength = word2.length(); \n",
    "\n",
    "        return word1.subString(0, firstLength/2) + word2.substring(secondLength/2, secondLength);\n",
    "\n",
    "\n",
    "    }\n",
    "\n",
    "    private String[] mixedWords(String[] words){\n",
    "        String[] mixed = new String[words.length];\n",
    "        for (int i=0; i < words.length; i +=2){\n",
    "            mixed[i] = recombine(words[i], words[i+1]);\n",
    "            mixed[i+1] = recombine(words[i+1], words[i]);\n",
    "        }\n",
    "\n",
    "        return mixed;\n",
    "    }\n",
    "   \n",
    "}\n",
    "\n",
    "\n",
    "public static void Main(String[] args){\n",
    "    String[] test = {\"apple\", \"pear\", \"this\", \"cat\"};\n",
    "    WordScrambler word = new WordScrambler(test);\n",
    "\n",
    "    test = word.scrambledWords();\n",
    "    for (int i=0; i < test.length; i++){\n",
    "        System.out.println(test[i]);\n",
    "    }\n",
    "}\n"
   ]
  },
  {
   "cell_type": "code",
   "execution_count": null,
   "metadata": {},
   "outputs": [],
   "source": [
    "// Question 2\n",
    "\n",
    "public class Mountain{\n",
    "    public static boolean isIncreasing(int[] array, int stop){\n",
    "\n",
    "    }\n",
    "\n",
    "    public static boolean isDecreasing(int[] array, int start){\n",
    "\n",
    "    }\n",
    "\n",
    "    public static int getPeakindex(int[] array){\n",
    "\n",
    "    }\n",
    "\n",
    "    public static boolean isMountain(int[] array){\n",
    "        \n",
    "    }\n",
    "}"
   ]
  }
 ],
 "metadata": {
  "kernelspec": {
   "display_name": "Java",
   "language": "java",
   "name": "java"
  },
  "language_info": {
   "codemirror_mode": "java",
   "file_extension": ".jshell",
   "mimetype": "text/x-java-source",
   "name": "java",
   "pygments_lexer": "java",
   "version": "17.0.14+7-Ubuntu-122.04.1"
  }
 },
 "nbformat": 4,
 "nbformat_minor": 2
}

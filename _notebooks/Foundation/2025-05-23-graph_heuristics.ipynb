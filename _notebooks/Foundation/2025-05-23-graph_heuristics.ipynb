{
 "cells": [
  {
   "cell_type": "markdown",
   "id": "4b3d13d5",
   "metadata": {},
   "source": [
    "# Popcorn Hack 1\n",
    "\n",
    "## 1 Robotic mouse is tryna go through a maze, and each time it moves it moves the same distance, what are the nodes, and edges in the graph that models this maze?\n",
    "\n",
    "- Not weighted since it moves the same distance every time. Edges is where the path of the mouse is taken. Nodes are the location of the mouse. "
   ]
  },
  {
   "cell_type": "markdown",
   "id": "c55816ad",
   "metadata": {},
   "source": [
    "# Homework\n",
    "\n",
    "1. B\n",
    "2. B\n",
    "\n",
    "\n",
    "3. A* is preferred over Greedy Best-First Search for pathfinding applications because it uses the optimal or shortest path while also using heuristic estimate and Greedy Best-First only uses heuristic estimates. \n",
    "\n",
    "4. |2+7| - |3 + 1| = 9-4 = 5 \n"
   ]
  }
 ],
 "metadata": {
  "kernelspec": {
   "display_name": "Java",
   "language": "java",
   "name": "java"
  },
  "language_info": {
   "codemirror_mode": "java",
   "file_extension": ".jshell",
   "mimetype": "text/x-java-source",
   "name": "Java",
   "pygments_lexer": "java",
   "version": "17.0.15+6-Ubuntu-0ubuntu122.04"
  }
 },
 "nbformat": 4,
 "nbformat_minor": 5
}

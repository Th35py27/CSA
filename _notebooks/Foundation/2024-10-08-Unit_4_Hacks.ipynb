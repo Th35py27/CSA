{
 "cells": [
  {
   "cell_type": "markdown",
   "metadata": {},
   "source": [
    "---\n",
    "layout: post\n",
    "title: Unit 4 Hacks\n",
    "type: ccc\n",
    "toc: True\n",
    "courses: {'csa': {'week': 7}}\n",
    "permalink: /sprint2/4\n",
    "menu: nav/team_teach.html\n",
    "---"
   ]
  },
  {
   "cell_type": "markdown",
   "metadata": {},
   "source": [
    "# Hack 1"
   ]
  },
  {
   "cell_type": "code",
   "execution_count": 1,
   "metadata": {},
   "outputs": [
    {
     "name": "stdout",
     "output_type": "stream",
     "text": [
      "0\n",
      "1\n",
      "2\n",
      "3\n",
      "4\n"
     ]
    }
   ],
   "source": [
    "// 4.1 Hack\n",
    "int i = 0;\n",
    "while (i < 5) {\n",
    "    System.out.println(i);\n",
    "    i++;\n",
    "}"
   ]
  },
  {
   "cell_type": "markdown",
   "metadata": {},
   "source": [
    "# Hack 2"
   ]
  },
  {
   "cell_type": "code",
   "execution_count": 9,
   "metadata": {},
   "outputs": [
    {
     "name": "stdout",
     "output_type": "stream",
     "text": [
      "Even Number 0\n",
      "Odd number 1\n",
      "Even Number 2\n",
      "Odd number 3\n",
      "Even Number 4\n",
      "Odd number 5\n",
      "Even Number 6\n",
      "Odd number 7\n",
      "                             \n",
      "Odd number 0\n",
      "Odd number 4\n",
      "Odd number 51\n",
      "Odd number 83\n",
      "Odd number 92\n",
      "Odd number 10\n",
      "Odd number 123\n",
      "Odd number 145\n"
     ]
    }
   ],
   "source": [
    "// 4.2 Hack\n",
    "\n",
    "int[] list = {0, 4, 51, 83, 92, 10, 123, 145};\n",
    "\n",
    "// For loop\n",
    "\n",
    "for (int i = 0; i < list.length; i++){\n",
    "    if (i % 2 == 0){\n",
    "        System.out.println(\"Even Number \" + i);\n",
    "    } else {\n",
    "        System.out.println(\"Odd number \" + i);\n",
    "    }\n",
    "}\n",
    "\n",
    "System.out.println(\"                             \");\n",
    "// Enhanced for loop\n",
    "for (int num : list){\n",
    "    if (i % 2 == 0){\n",
    "        System.out.println(\"Even Number \" + num);\n",
    "    } else {\n",
    "        System.out.println(\"Odd number \" + num);\n",
    "    }\n",
    "}\n"
   ]
  },
  {
   "cell_type": "markdown",
   "metadata": {},
   "source": [
    "# Hack 3"
   ]
  },
  {
   "cell_type": "code",
   "execution_count": 29,
   "metadata": {},
   "outputs": [
    {
     "name": "stdout",
     "output_type": "stream",
     "text": [
      "i\n",
      "t\n",
      "e\n",
      "r\n",
      "a\n",
      "t\n",
      "e\n",
      "t\n",
      "h\n",
      "r\n",
      "o\n",
      "u\n",
      "g\n",
      "h\n",
      "w\n",
      "h\n",
      "i\n",
      "l\n",
      "e\n",
      "l\n",
      "o\n",
      "o\n",
      "p\n"
     ]
    }
   ],
   "source": [
    "String word = \"iteratethroughwhileloop\";\n",
    "i = 0; \n",
    "while (i < word.length()) {\n",
    "    char c = word.charAt(i);\n",
    "    System.out.println(c);\n",
    "    i++;\n",
    "}"
   ]
  },
  {
   "cell_type": "markdown",
   "metadata": {
    "vscode": {
     "languageId": "java"
    }
   },
   "source": [
    "# Hack 4"
   ]
  },
  {
   "cell_type": "code",
   "execution_count": 30,
   "metadata": {},
   "outputs": [
    {
     "name": "stdout",
     "output_type": "stream",
     "text": [
      "Enter the number of rows: "
     ]
    },
    {
     "name": "stdout",
     "output_type": "stream",
     "text": [
      "           \n",
      "1 2 3 4 5 \n",
      "1 2 3 4 \n",
      "1 2 3 \n",
      "1 2 \n"
     ]
    }
   ],
   "source": [
    "import java.util.Scanner;\n",
    "Scanner scanner = new Scanner(System.in);\n",
    "System.out.print(\"Enter the number of rows: \");\n",
    "System.out.println(\"           \");\n",
    "int rows = scanner.nextInt();\n",
    "for (int i = rows; i>1; i--) { // iterating backwards requires (--) not (-)\n",
    "    for (int j = 1; j <= i; j++) {\n",
    "        System.out.print(j + \" \");\n",
    "    }\n",
    "    System.out.println();\n",
    "    }\n",
    "        \n",
    "scanner.close();"
   ]
  },
  {
   "cell_type": "markdown",
   "metadata": {
    "vscode": {
     "languageId": "java"
    }
   },
   "source": [
    "# Homework "
   ]
  },
  {
   "cell_type": "markdown",
   "metadata": {
    "vscode": {
     "languageId": "java"
    }
   },
   "source": [
    "## Multiple Choice\n",
    "\n",
    "- 1. D, because since it prints out every value from 3, all the way to 12, it will print out every value in between, includiing 3 and 12, hence making D the correct answer.\n",
    "- 2. C, because since the uppermost value is 10, not 11, this will include the values 3,4,5,6,7,8,9,10, which is 8 values or 8 asteriks being printed out.\n",
    "- 3. A, because it iterates before being printed, therefore the -5, is not being printed out. Since it is going to print out values from -4 to 0, A would be correct.\n",
    "- 4. B, because, the sums will be added like this based on the even and odd values: at i = 1, sum will be 1, at i = 2, sum will be 5, at i = 3, sum will be 8, at i=14, sum will be 16, and i=4, sum will be 21. "
   ]
  },
  {
   "cell_type": "code",
   "execution_count": 16,
   "metadata": {},
   "outputs": [
    {
     "name": "stdout",
     "output_type": "stream",
     "text": [
      "While loop Numbers:\n",
      "[3, 5, 6, 9, 10, 12, 15, 18, 20, 21, 24, 25, 27, 30, 33, 35, 36, 39, 40, 42, 45, 48, 50]\n",
      "           \n",
      "For loop Numbers:\n",
      "[3, 5, 6, 9, 10, 12, 15, 18, 20, 21, 24, 25, 27, 30, 33, 35, 36, 39, 40, 42, 45, 48, 50]\n"
     ]
    }
   ],
   "source": [
    "// Easy Hack\n",
    "\n",
    "\n",
    "// While loop\n",
    "int i = 1;\n",
    "ArrayList<Integer> stuff = new ArrayList<Integer>();\n",
    "\n",
    "while (i <= 50) {\n",
    "    if (i % 3 == 0 || i % 5 == 0) {\n",
    "        stuff.add(i);\n",
    "        \n",
    "    }\n",
    "    i++;\n",
    "}\n",
    "\n",
    "System.out.println(\"While loop Numbers:\");\n",
    "System.out.println(stuff);\n",
    "\n",
    "\n",
    "System.out.println(\"           \");\n",
    "// For loop\n",
    "\n",
    "ArrayList<Integer> stuff2 = new ArrayList<Integer>();\n",
    "for (i = 1; i <= 50; i++){\n",
    "    if (i % 3 == 0 || i % 5 == 0) {\n",
    "        stuff2.add(i);\n",
    "    }\n",
    "}\n",
    "\n",
    "System.out.println(\"For loop Numbers:\");\n",
    "System.out.println(stuff2);\n"
   ]
  },
  {
   "cell_type": "code",
   "execution_count": 21,
   "metadata": {},
   "outputs": [
    {
     "name": "stdout",
     "output_type": "stream",
     "text": [
      "[4444, 515, 2882, 6556, 595]\n"
     ]
    }
   ],
   "source": [
    "// Hard Hack\n",
    "\n",
    "int[] test_list = {5672, 235, 5537, 6032, 317, 8460, 1672, 8104, 7770, 4442, 913, 2508, 1116, 9969, 9091, 522, 8756, 9527, 7968, 1520, 4444, 515, 2882, 6556, 595};\n",
    "\n",
    "int i = 0;\n",
    "ArrayList<String> palindromes = new ArrayList<String>();\n",
    "\n",
    "while (i < test_list.length) {\n",
    "    String original = Integer.toString(test_list[i]);\n",
    "    String reversed = new StringBuilder(original).reverse().toString();\n",
    "    \n",
    "    if (reversed.equals(original)) {\n",
    "        palindromes.add(reversed);\n",
    "    }\n",
    "    i++;\n",
    "}\n",
    "\n",
    "System.out.println(palindromes);\n"
   ]
  }
 ],
 "metadata": {
  "kernelspec": {
   "display_name": "Java",
   "language": "java",
   "name": "java"
  },
  "language_info": {
   "codemirror_mode": "java",
   "file_extension": ".jshell",
   "mimetype": "text/x-java-source",
   "name": "java",
   "pygments_lexer": "java",
   "version": "17.0.12+7-Ubuntu-1ubuntu222.04"
  }
 },
 "nbformat": 4,
 "nbformat_minor": 2
}

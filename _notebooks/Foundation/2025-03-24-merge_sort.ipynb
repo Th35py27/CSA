{
 "cells": [
  {
   "cell_type": "code",
   "execution_count": null,
   "metadata": {
    "vscode": {
     "languageId": "java"
    }
   },
   "outputs": [
    {
     "name": "stdout",
     "output_type": "stream",
     "text": [
      "1 2 3 4 5 6 7 8 9 10 "
     ]
    }
   ],
   "source": [
    "// Popcorn Hack\n",
    "\n",
    "public class MergeSortedArrays {\n",
    "\n",
    "    public static int[] mergeSortedArrays(int[] arr1, int[] arr2) {\n",
    "        int n1 = arr1.length;\n",
    "        int n2 = arr2.length;\n",
    "        int[] merged = new int[n1 + n2];\n",
    "\n",
    "        int i = 0, j = 0, k = 0;\n",
    "\n",
    "        while (i < n1 && j < n2) {\n",
    "            if (arr1[i] <= arr2[j]) {\n",
    "                merged[k++] = arr1[i++];\n",
    "            } else {\n",
    "                merged[k++] = arr2[j++];\n",
    "            }\n",
    "        }\n",
    "\n",
    "        while (i < n1) {\n",
    "            merged[k++] = arr1[i++];\n",
    "        }\n",
    "\n",
    "        while (j < n2) {\n",
    "            merged[k++] = arr2[j++];\n",
    "        }\n",
    "\n",
    "        return merged;\n",
    "    }\n",
    "\n",
    "    public static void main(String[] args) {\n",
    "        int[] sorted1 = {1, 3, 5, 7, 9};\n",
    "        int[] sorted2 = {2, 4, 6, 8, 10};\n",
    "\n",
    "        int[] result = mergeSortedArrays(sorted1, sorted2);\n",
    "\n",
    "        for (int num : result) {\n",
    "            System.out.print(num + \" \");\n",
    "        }\n",
    "    }\n",
    "}\n",
    "\n",
    "MergeSortedArrays.main(null);\n"
   ]
  },
  {
   "cell_type": "markdown",
   "metadata": {
    "vscode": {
     "languageId": "java"
    }
   },
   "source": [
    "# Homework Part 1\n",
    "\n",
    "- Time complexity in the best case scenario would be O(n log n)\tand in the worst case scenario it would be also O(n log n) and same with average. This is because it always takes the list and divides it into 2, allowing the time complexity to be dependent on that rather than the number of elements in the list. \n",
    "\n",
    "\n",
    "- Merge sort compared to quicksort makes merge sort better because it has a better time complexity, and it doesn't need to use any pivots in order to do its sorting. This makes merge sort more constant. Bubble sort is not efficient since it compares elements next to it at a time, causing the time complexity to not be good, at O(n^2) meaning as input size increases, time increases exponentially.\n",
    "\n",
    "\n",
    "- Merge sort is considered a divide and conquer type algorithm because it splits the elements in an array in half, into 2 separate lists, and it sorts from least to greatest, before sorting the two lists back together into one list. \n",
    "\n",
    "- Merge sort is stable since its time complexity is constant even at worst, average, and best case scenarios, giving this a very good advantage when finding a good sorting algorithm. \n",
    "\n",
    "\n"
   ]
  },
  {
   "cell_type": "code",
   "execution_count": 3,
   "metadata": {
    "vscode": {
     "languageId": "java"
    }
   },
   "outputs": [
    {
     "name": "stdout",
     "output_type": "stream",
     "text": [
      "3 9 10 27 38 43 82 "
     ]
    }
   ],
   "source": [
    "public class MergeSort {\n",
    "\n",
    "    public static void main(String[] args) {\n",
    "        int[] arr = {38, 27, 43, 3, 9, 82, 10};\n",
    "        mergeSort(arr, 0, arr.length - 1);\n",
    "\n",
    "        for (int num : arr) {\n",
    "            System.out.print(num + \" \");\n",
    "        }\n",
    "    }\n",
    "\n",
    "    public static void mergeSort(int[] arr, int left, int right) {\n",
    "        if (left < right) {\n",
    "            int mid = (left + right) / 2;\n",
    "            mergeSort(arr, left, mid);\n",
    "            mergeSort(arr, mid + 1, right);\n",
    "            merge(arr, left, mid, right);\n",
    "        }\n",
    "    }\n",
    "\n",
    "    public static void merge(int[] arr, int left, int mid, int right) {\n",
    "        int n1 = mid - left + 1;\n",
    "        int n2 = right - mid;\n",
    "\n",
    "        int[] L = new int[n1];\n",
    "        int[] R = new int[n2];\n",
    "\n",
    "        for (int i = 0; i < n1; i++)\n",
    "            L[i] = arr[left + i];\n",
    "        for (int j = 0; j < n2; j++)\n",
    "            R[j] = arr[mid + 1 + j];\n",
    "\n",
    "        int i = 0, j = 0, k = left;\n",
    "\n",
    "        while (i < n1 && j < n2) {\n",
    "            if (L[i] <= R[j]) {\n",
    "                arr[k++] = L[i++];\n",
    "            } else {\n",
    "                arr[k++] = R[j++];\n",
    "            }\n",
    "        }\n",
    "\n",
    "        while (i < n1) {\n",
    "            arr[k++] = L[i++];\n",
    "        }\n",
    "\n",
    "        while (j < n2) {\n",
    "            arr[k++] = R[j++];\n",
    "        }\n",
    "    }\n",
    "}\n",
    "\n",
    "MergeSort.main(null);"
   ]
  },
  {
   "cell_type": "code",
   "execution_count": 7,
   "metadata": {
    "vscode": {
     "languageId": "java"
    }
   },
   "outputs": [
    {
     "ename": "CompilationException",
     "evalue": "",
     "output_type": "error",
     "traceback": [
      "\u001b[1m\u001b[30m|   \u001b[1m\u001b[30m    public String getResponse(String statement)\u001b[0m\u001b[1m\u001b[30m\u001b[41m{\u001b[0m",
      "\u001b[1m\u001b[30m|   \u001b[1m\u001b[30m\u001b[41m        String response = \"\";\u001b[0m",
      "\u001b[1m\u001b[30m|   \u001b[1m\u001b[30m\u001b[41m        if (statement.length() == 0) {\u001b[0m",
      "\u001b[1m\u001b[30m|   \u001b[1m\u001b[30m\u001b[41m            response = \"Why so negative?\";\u001b[0m",
      "\u001b[1m\u001b[30m|   \u001b[1m\u001b[30m\u001b[41m\u001b[0m",
      "\u001b[1m\u001b[30m|   \u001b[1m\u001b[30m\u001b[41m            return response;\u001b[0m",
      "\u001b[1m\u001b[30m|   \u001b[1m\u001b[30m\u001b[41m        }\u001b[0m",
      "\u001b[1m\u001b[30m|   \u001b[1m\u001b[30m\u001b[41m    }\u001b[0m",
      "\u001b[1m\u001b[31mmissing return statement\u001b[0m",
      ""
     ]
    }
   ],
   "source": [
    "import java.util.Scanner;\n",
    "\n",
    "\n",
    "public class Magpie{\n",
    "    public String getGreeting() {\n",
    "        return \"Hello, let's talk.\";\n",
    "    }\n",
    "\n",
    "    public String getResponse(String statement){\n",
    "        String response = \"\";\n",
    "        if (statement.length() == 0) {\n",
    "            response = \"Why so negative?\";\n",
    "\n",
    "            return response;\n",
    "        }\n",
    "    }\n",
    "}\n",
    "\n",
    "public static void main(String[] args){\n",
    "    Magpie5 magpie = new Magpie5();\n",
    "\n",
    "    System.out.println(magpie.getGreeting());\n",
    "    Scanner in = new Scanner(System.in);\n",
    "    String statement = in.nextLine();\n",
    "\n",
    "\n",
    "    while (!statement.equals(\"bye\")) {\n",
    "        System.out.println(magpie.getResponse(statement));\n",
    "        statement = in.nextLine();\n",
    "    }\n",
    "}\n",
    "\n",
    "\n",
    "main(null);"
   ]
  }
 ],
 "metadata": {
  "kernelspec": {
   "display_name": "Java",
   "language": "java",
   "name": "java"
  },
  "language_info": {
   "codemirror_mode": "java",
   "file_extension": ".jshell",
   "mimetype": "text/x-java-source",
   "name": "Java",
   "pygments_lexer": "java",
   "version": "17.0.14+7-Ubuntu-122.04.1"
  }
 },
 "nbformat": 4,
 "nbformat_minor": 2
}

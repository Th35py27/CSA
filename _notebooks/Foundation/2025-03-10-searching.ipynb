{
 "cells": [
  {
   "cell_type": "markdown",
   "metadata": {
    "vscode": {
     "languageId": "plaintext"
    }
   },
   "source": [
    "---\n",
    "title: Sorting/Searching Algorithms - Sorting Lesson\n",
    "description: A lesson on sorting algorithms for AP Computer Science students.\n",
    "categories: [Sorting/Searching Algorithms]\n",
    "courses: { csse: {week: 3}, csp: {week: 3}, csa: {week: 2} }\n",
    "menu: nav/teamteaching.html\n",
    "permalink: /teamteaching/sorting/lesson/\n",
    "comments: true\n",
    "---"
   ]
  },
  {
   "cell_type": "markdown",
   "metadata": {
    "vscode": {
     "languageId": "plaintext"
    }
   },
   "source": [
    "# Sequential Search \n",
    "\n",
    "- Sequential searching in Java is a simple search algorithm used to find an element in a list or array by checking each element one by one. The search starts from the first element and continues until the target element is found or the entire list is traversed. If the element is found, its index is returned; otherwise, a value like -1 is often returned to indicate that the element is not present. This method works well for small or unsorted datasets but is inefficient for large collections since it has a time complexity of O(n) in the worst case. Sequential search can be implemented using a for loop or a while loop in Java."
   ]
  },
  {
   "cell_type": "code",
   "execution_count": 2,
   "metadata": {
    "vscode": {
     "languageId": "java"
    }
   },
   "outputs": [
    {
     "name": "stdout",
     "output_type": "stream",
     "text": [
      "Tests of sequentialSearch\n",
      "0\n",
      "2\n",
      "4\n",
      "-1\n"
     ]
    }
   ],
   "source": [
    "public class ArraySearcher\n",
    "{\n",
    "\n",
    "    /**\n",
    "     * Finds the index of a value in an array of integers.\n",
    "     *\n",
    "     * @param elements an array containing the items to be searched.\n",
    "     * @param target the item to be found in elements.\n",
    "     * @return an index of target in elements if found; -1 otherwise.\n",
    "     */\n",
    "    public static int sequentialSearch(int[] elements, int target)\n",
    "    {\n",
    "        for (int j = 0; j < elements.length; j++)\n",
    "        {\n",
    "            if (elements[j] == target)\n",
    "            {\n",
    "                return j;\n",
    "            }\n",
    "        }\n",
    "        return -1;\n",
    "    }\n",
    "\n",
    "    public static void main(String[] args)\n",
    "    {\n",
    "        int[] numArray = {3, -2, 9, 38, -23};\n",
    "        System.out.println(\"Tests of sequentialSearch\");\n",
    "        System.out.println(sequentialSearch(numArray, 3));\n",
    "        System.out.println(sequentialSearch(numArray, 9));\n",
    "        System.out.println(sequentialSearch(numArray, -23));\n",
    "        System.out.println(sequentialSearch(numArray, 99));\n",
    "    }\n",
    "}\n",
    "\n",
    "ArraySearcher.main(null);"
   ]
  },
  {
   "cell_type": "code",
   "execution_count": 3,
   "metadata": {
    "vscode": {
     "languageId": "java"
    }
   },
   "outputs": [
    {
     "name": "stdout",
     "output_type": "stream",
     "text": [
      "1\n",
      "-1\n"
     ]
    }
   ],
   "source": [
    "// Same with Strings\n",
    "public class SearchTest\n",
    "{\n",
    "\n",
    "    public static int sequentialSearch(String[] elements, String target)\n",
    "    {\n",
    "        for (int j = 0; j < elements.length; j++)\n",
    "        {\n",
    "            if (elements[j].equals(target))\n",
    "            {\n",
    "                return j;\n",
    "            }\n",
    "        }\n",
    "        return -1;\n",
    "    }\n",
    "\n",
    "    public static void main(String[] args)\n",
    "    {\n",
    "        String[] arr1 = {\"blue\", \"red\", \"purple\", \"green\"};\n",
    "\n",
    "        // test when the target is in the array\n",
    "        int index = sequentialSearch(arr1, \"red\");\n",
    "        System.out.println(index);\n",
    "\n",
    "        // test when the target is not in the array\n",
    "        index = sequentialSearch(arr1, \"pink\");\n",
    "        System.out.println(index);\n",
    "    }\n",
    "}\n",
    "\n",
    "SearchTest.main(null);"
   ]
  },
  {
   "cell_type": "markdown",
   "metadata": {
    "vscode": {
     "languageId": "java"
    }
   },
   "source": [
    "# Binary Search\n",
    "- Binary search is an efficient searching algorithm used to locate an element in a sorted array or list. Unlike linear search, which checks each element one by one, binary search works by repeatedly dividing the search space in half until the target element is found or determined to be missing. This approach significantly reduces the number of comparisons, making it much faster, with a time complexity of O(log n) in the worst case.\n",
    "\n",
    "- The algorithm starts by setting two pointers: left (beginning of the array) and right (end of the array). It then calculates the middle index using the formula: middle=(left+right)/2, then does middle=right-1 and middle=left+1 to find the element on both sides of the array. \n",
    "​\n",
    " \n",
    "- Since Java performs integer division, the middle index is always rounded down. The value at this middle index is then compared with the target value. If the target value is smaller, the search continues in the left half by updating right = middle - 1. If the target value is larger, the search continues in the right half by updating left = middle + 1. This process repeats until the element is found or the search space is exhausted (left > right).\n",
    "\n",
    "- Binary search is commonly implemented using both iterative and recursive approaches. While the iterative version is generally preferred for efficiency, the recursive version is useful for understanding the algorithm conceptually. A key limitation of binary search is that it only works on sorted data, meaning an additional sorting step (O(n log n)) is required if the data is unordered."
   ]
  },
  {
   "cell_type": "code",
   "execution_count": 4,
   "metadata": {
    "vscode": {
     "languageId": "java"
    }
   },
   "outputs": [
    {
     "name": "stdout",
     "output_type": "stream",
     "text": [
      "2\n",
      "0\n",
      "4\n",
      "-1\n"
     ]
    }
   ],
   "source": [
    "public class SearchTest\n",
    "{\n",
    "    public static int binarySearch(int[] elements, int target)\n",
    "    {\n",
    "        int left = 0;\n",
    "        int right = elements.length - 1;\n",
    "        while (left <= right)\n",
    "        {\n",
    "            int middle = (left + right) / 2;\n",
    "            if (target < elements[middle])\n",
    "            {\n",
    "                right = middle - 1;\n",
    "            }\n",
    "            else if (target > elements[middle])\n",
    "            {\n",
    "                left = middle + 1;\n",
    "            }\n",
    "            else\n",
    "            {\n",
    "                return middle;\n",
    "            }\n",
    "        }\n",
    "        return -1;\n",
    "    }\n",
    "\n",
    "    public static void main(String[] args)\n",
    "    {\n",
    "        int[] arr1 = {-20, 3, 15, 81, 432};\n",
    "\n",
    "        // test when the target is in the middle\n",
    "        int index = binarySearch(arr1, 15);\n",
    "        System.out.println(index);\n",
    "\n",
    "        // test when the target is the first item in the array\n",
    "        index = binarySearch(arr1, -20);\n",
    "        System.out.println(index);\n",
    "\n",
    "        // test when the target is in the array - last\n",
    "        index = binarySearch(arr1, 432);\n",
    "        System.out.println(index);\n",
    "\n",
    "        // test when the target is not in the array\n",
    "        index = binarySearch(arr1, 53);\n",
    "        System.out.println(index);\n",
    "    }\n",
    "}\n",
    "\n",
    "\n",
    "SearchTest.main(null);"
   ]
  }
 ],
 "metadata": {
  "kernelspec": {
   "display_name": "Java",
   "language": "java",
   "name": "java"
  },
  "language_info": {
   "codemirror_mode": "java",
   "file_extension": ".jshell",
   "mimetype": "text/x-java-source",
   "name": "Java",
   "pygments_lexer": "java",
   "version": "17.0.14+7-Ubuntu-122.04.1"
  }
 },
 "nbformat": 4,
 "nbformat_minor": 2
}

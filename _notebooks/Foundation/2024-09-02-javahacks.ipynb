{
 "cells": [
  {
   "cell_type": "markdown",
   "metadata": {
    "vscode": {
     "languageId": "java"
    }
   },
   "source": [
    "---\n",
    "layout: post\n",
    "title: Tool Play\n",
    "description: Tools and Software Development for Sprint 1\n",
    "type: issues\n",
    "comments: True\n",
    "---"
   ]
  },
  {
   "cell_type": "code",
   "execution_count": 29,
   "metadata": {},
   "outputs": [
    {
     "name": "stdout",
     "output_type": "stream",
     "text": [
      "Enter number:\n",
      "Number before double: 50\n",
      "Number converted to double: 50.0\n"
     ]
    }
   ],
   "source": [
    "import java.util.Scanner;\n",
    "\n",
    "public class Main {\n",
    "    public static void main(String[] args) {\n",
    "        Scanner number_input = new Scanner(System.in);\n",
    "        System.out.println(\"Enter number:\");\n",
    "        int number = Integer.parseInt(number_input.nextLine());\n",
    "        System.out.println(\"Number before double: \" + number);\n",
    "        double number_double = number;\n",
    "        System.out.println(\"Number converted to double: \" + number_double);\n",
    "    }\n",
    "}\n",
    "\n",
    "Main.main(null);"
   ]
  },
  {
   "cell_type": "code",
   "execution_count": null,
   "metadata": {},
   "outputs": [],
   "source": [
    "from newspaper import Article\n",
    "from IPython.display import display, Markdown\n",
    "\n",
    "num_urls = int(input(\"How many articles do you want? \"))\n",
    "\n",
    "urls = []\n",
    "for x in range(num_urls):\n",
    "    url_input = str(input(\"Type in your URL link: \"))\n",
    "    urls.append(url_input)\n",
    "\n",
    "information_input = input(\"What info do you want to see from the article? (a for authors, t for text): \")\n",
    "\n",
    "if information_input.lower() == \"a\":\n",
    "    for url in urls:\n",
    "        article = Article(url)\n",
    "        article.download()\n",
    "        article.parse()\n",
    "        display(article.authors)\n",
    "elif information_input.lower() == \"t\":\n",
    "    for url in urls:\n",
    "        article = Article(url)\n",
    "        article.download()\n",
    "        article.parse()\n",
    "        display(Markdown(article.text))\n",
    "        print(\"\\n\")\n",
    "else:\n",
    "    print(\"Invalid input\")\n"
   ]
  },
  {
   "cell_type": "code",
   "execution_count": 2,
   "metadata": {},
   "outputs": [
    {
     "name": "stdout",
     "output_type": "stream",
     "text": [
      "I love CSA ❤️\n"
     ]
    }
   ],
   "source": [
    "import emoji\n",
    "\n",
    "while True:\n",
    "    message = str(input(\"Say what you want: \"))\n",
    "    emoji_type = str(input(\"Type the kind of emoji that you want (T, H)\"))\n",
    "    if emoji_type.lower() == \"t\":\n",
    "        print(message + \" \" + emoji.emojize(':thumbs_up:'))\n",
    "        break\n",
    "    elif emoji_type.lower() == \"h\":\n",
    "        print(message + \" \" + emoji.emojize(':red_heart:'))\n",
    "        break\n",
    "else:\n",
    "    print(\"Not one of the letters\")\n"
   ]
  }
 ],
 "metadata": {
  "kernelspec": {
   "display_name": "Python 3",
   "language": "python",
   "name": "python3"
  },
  "language_info": {
   "codemirror_mode": {
    "name": "ipython",
    "version": 3
   },
   "file_extension": ".py",
   "mimetype": "text/x-python",
   "name": "python",
   "nbconvert_exporter": "python",
   "pygments_lexer": "ipython3",
   "version": "3.10.12"
  }
 },
 "nbformat": 4,
 "nbformat_minor": 2
}

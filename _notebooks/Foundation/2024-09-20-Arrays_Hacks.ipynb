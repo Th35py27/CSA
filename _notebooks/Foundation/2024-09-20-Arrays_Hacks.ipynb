{
 "cells": [
  {
   "cell_type": "markdown",
   "metadata": {},
   "source": [
    "---\n",
    "layout: post\n",
    "title: Unit 6 Hacks\n",
    "type: post\n",
    "comments: True\n",
    "---"
   ]
  },
  {
   "cell_type": "code",
   "execution_count": 3,
   "metadata": {
    "vscode": {
     "languageId": "java"
    }
   },
   "outputs": [
    {
     "name": "stdout",
     "output_type": "stream",
     "text": [
      "Java\n",
      "Python\n",
      "Markdown\n",
      "C++\n",
      "Go\n",
      "JavaScript\n",
      "HTML\n"
     ]
    }
   ],
   "source": [
    "// Popcorn Hack 1\n",
    "\n",
    "String[] languages = {\"Java\", \"Python\", \"Markdown\", \"C++\", \"Go\", \"JavaScript\", \"HTML\"};\n",
    "\n",
    "for (String language : languages) {\n",
    "    System.out.println(language);\n",
    "};"
   ]
  },
  {
   "cell_type": "code",
   "execution_count": 4,
   "metadata": {
    "vscode": {
     "languageId": "java"
    }
   },
   "outputs": [
    {
     "name": "stdout",
     "output_type": "stream",
     "text": [
      "increase\n",
      "increase\n",
      "increase\n",
      "increase\n",
      "increase\n",
      "Maximum value: 12\n",
      "Minimum value: -1\n"
     ]
    }
   ],
   "source": [
    "// Popcorn Hack 2\n",
    "\n",
    "public class MaxMinInArray {\n",
    "\n",
    "    public static void findMaxAndMin(int[] array) {\n",
    "       \n",
    "        if (array == null || array.length == 0) {\n",
    "            System.out.println(\"Array is empty\");\n",
    "            return;\n",
    "        }\n",
    "\n",
    "        int max = array[0];\n",
    "        int min = array[0];\n",
    "\n",
    "        \n",
    "        for (int i = 1; i < array.length; i++) {\n",
    "            if (array[i] > array[i-1]){\n",
    "                System.out.println(\"increase\");\n",
    "            }\n",
    "            if (array[i] > max) {\n",
    "                max = array[i];  \n",
    "            }\n",
    "            if (array[i] < min) {\n",
    "                min = array[i];  \n",
    "            }\n",
    "        }\n",
    "\n",
    "        System.out.println(\"Maximum value: \" + max);\n",
    "        System.out.println(\"Minimum value: \" + min);\n",
    "    }\n",
    "\n",
    "    public static void main(String[] args) {\n",
    "     \n",
    "        int[] array = {3, 5, 7, 2, 8, -1, 4, 0, 12};\n",
    "\n",
    "        \n",
    "        findMaxAndMin(array);\n",
    "    }\n",
    "}\n",
    "MaxMinInArray.main(null)"
   ]
  },
  {
   "cell_type": "code",
   "execution_count": 5,
   "metadata": {
    "vscode": {
     "languageId": "java"
    }
   },
   "outputs": [
    {
     "name": "stdout",
     "output_type": "stream",
     "text": [
      "San Diego\n",
      "San Francisco\n",
      "Sacramento\n"
     ]
    }
   ],
   "source": [
    "// Popcorn Hack 6.1\n",
    "\n",
    "String[] city_array = {\"San Diego\", \"Los Angeles\", \"San Francisco\", \"Sacramento\"};\n",
    "\n",
    "System.out.println(city_array[0]);\n",
    "System.out.println(city_array[2]);\n",
    "\n",
    "city_array[1] =  \"Sacramento\";\n",
    "city_array[3] =  \"San Jose\"; \n",
    "\n",
    "System.out.println(city_array[1]);\n"
   ]
  },
  {
   "cell_type": "code",
   "execution_count": 1,
   "metadata": {
    "vscode": {
     "languageId": "java"
    }
   },
   "outputs": [
    {
     "ename": "CompilationException",
     "evalue": "",
     "output_type": "error",
     "traceback": [
      "\u001b[1m\u001b[30m|   \u001b[1m\u001b[30m    \u001b[0m\u001b[1m\u001b[30m\u001b[41m\u001b[0m\u001b[1m\u001b[30mpublic static void main(String[] args) {\u001b[0m",
      "\u001b[1m\u001b[31millegal start of expression\u001b[0m",
      ""
     ]
    }
   ],
   "source": [
    "// Popcorn Hack 6.2\n",
    "\n",
    "public static int sumOfEvenNumbers(int[] arr) {\n",
    "    public static void main(String[] args) {\n",
    "        int[] arr = new int [] {1, 2, 3, 4, 5};\n",
    "        for (int i=1, index<arr.length, i++){\n",
    "            System.out.println()\n",
    "        }\n",
    "    }\n",
    "}\n",
    "\n",
    "// Example usage:\n",
    "int[] arr = {1, 2, 3, 4, 5};\n",
    "System.out.println(sumOfEvenNumbers(arr)); "
   ]
  },
  {
   "cell_type": "code",
   "execution_count": 26,
   "metadata": {
    "vscode": {
     "languageId": "java"
    }
   },
   "outputs": [
    {
     "name": "stdout",
     "output_type": "stream",
     "text": [
      "Second largest in arr1: 6\n"
     ]
    },
    {
     "name": "stdout",
     "output_type": "stream",
     "text": [
      "Second largest in arr2: -1\n"
     ]
    }
   ],
   "source": [
    "\n",
    "    public static int findSecondLargest(int[] arr) {\n",
    "        if (arr.length < 2) {\n",
    "            return -1;\n",
    "        }\n",
    "\n",
    "        int max = Integer.MIN_VALUE;\n",
    "        int secondMax = Integer.MIN_VALUE;\n",
    "\n",
    "        for (int i = 0; i < arr.length; i++) {\n",
    "            if (arr[i] > max) {\n",
    "                secondMax = max;  \n",
    "                max = arr[i];     \n",
    "            } else if (arr[i] > secondMax && arr[i] != max) {\n",
    "                secondMax = arr[i];  \n",
    "            }\n",
    "        }\n",
    "\n",
    "        if (secondMax == Integer.MIN_VALUE) {\n",
    "            return -1;\n",
    "        }\n",
    "\n",
    "        return secondMax;\n",
    "    }\n",
    "\n",
    "int[] arr1 = {3, 1, 4, 1, 5, 9, 2, 6};\n",
    "System.out.println(\"Second largest in arr1: \" + findSecondLargest(arr1));  \n",
    "\n",
    "int[] arr2 = {10, 10, 10, 10};\n",
    "System.out.println(\"Second largest in arr2: \" + findSecondLargest(arr2));  \n",
    "\n"
   ]
  },
  {
   "cell_type": "code",
   "execution_count": 37,
   "metadata": {
    "vscode": {
     "languageId": "java"
    }
   },
   "outputs": [
    {
     "name": "stdout",
     "output_type": "stream",
     "text": [
      "Enter a grade: Updated grades: [88, 93, 55, 68, 77, 60]\n",
      "The average is: 73.5\n"
     ]
    }
   ],
   "source": [
    "import java.util.Arrays;\n",
    "import java.util.Scanner;\n",
    "\n",
    "public class Average {\n",
    "    public static void main(String[] args) {\n",
    "        Integer[] grades = {88, 93, 55, 68, 77}; \n",
    "\n",
    "        Scanner userGrades = new Scanner(System.in);\n",
    "        System.out.print(\"Enter a grade: \");\n",
    "        int grade = Integer.parseInt(userGrades.nextLine());\n",
    "\n",
    "        grades = Arrays.copyOf(grades, grades.length + 1);\n",
    "        grades[grades.length - 1] = grade;\n",
    "        System.out.println(\"Updated grades: \" + Arrays.toString(grades));\n",
    "\n",
    "        System.out.println(\"The average is: \" + average(grades));\n",
    "    }\n",
    "\n",
    "    public static double average(Integer[] scores) { \n",
    "        int sum = 0;\n",
    "        for (int score : scores) {\n",
    "            sum += score;\n",
    "        }\n",
    "        return (double) sum / scores.length; \n",
    "    }\n",
    "}\n",
    "\n",
    "Average.main(null);"
   ]
  },
  {
   "cell_type": "code",
   "execution_count": 53,
   "metadata": {
    "vscode": {
     "languageId": "java"
    }
   },
   "outputs": [
    {
     "name": "stdout",
     "output_type": "stream",
     "text": [
      "alpha gamma "
     ]
    }
   ],
   "source": [
    "//Homework Hacks 6.4\n",
    "\n",
    "public class WordShifter {  \n",
    "    public static void main(String[] args) {\n",
    "        String[] words = {\"alpha\", \"beta\", \"gamma\", \"delta\"};\n",
    "        \n",
    "        for (int i = 0; i < words.length; i += 2) {\n",
    "            System.out.print(words[i] + \" \");\n",
    "    }\n",
    "}\n",
    "}\n",
    "WordShifter.main(null)"
   ]
  }
 ],
 "metadata": {
  "kernelspec": {
   "display_name": "Java",
   "language": "java",
   "name": "java"
  },
  "language_info": {
   "codemirror_mode": "java",
   "file_extension": ".jshell",
   "mimetype": "text/x-java-source",
   "name": "Java",
   "pygments_lexer": "java",
   "version": "17.0.12+7-Ubuntu-1ubuntu222.04"
  }
 },
 "nbformat": 4,
 "nbformat_minor": 2
}

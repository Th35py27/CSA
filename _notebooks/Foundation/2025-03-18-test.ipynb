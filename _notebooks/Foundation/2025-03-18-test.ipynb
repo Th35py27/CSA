{
  "cells": [
    {
      "cell_type": "markdown",
      "metadata": {},
      "source": [
        "# Fibonacci Abstract Algorithm\n",
        "This notebook demonstrates an abstract Fibonacci algorithm using Java.\n"
      ]
    },
    {
      "cell_type": "code",
      "execution_count": 5,
      "metadata": {},
      "outputs": [],
      "source": [
        "import java.util.ArrayList;\n",
        "import java.util.HashMap;\n",
        "import java.util.stream.Stream;\n",
        "\n",
        "abstract class Fibo {\n",
        "    String name;\n",
        "    int size;\n",
        "    int hashID;\n",
        "    ArrayList<Long> list;\n",
        "    HashMap<Integer, Object> hash;\n",
        "    public Fibo() {\n",
        "        this(8);\n",
        "    }\n",
        "    public Fibo(int nth) {\n",
        "        this.size = nth;\n",
        "        this.list = new ArrayList<>();\n",
        "        this.hashID = 0;\n",
        "        this.hash = new HashMap<>();\n",
        "        this.calc();\n",
        "    }\n",
        "    protected abstract void calc();\n",
        "    public void setData(long num) {\n",
        "        list.add(num);\n",
        "        hash.put(this.hashID++, list.clone());\n",
        "    }\n",
        "    public long getNth() {\n",
        "        return list.get(this.size - 1);\n",
        "    }\n",
        "    public Object getNthSeq(int i) {\n",
        "        return hash.get(i);\n",
        "    }\n",
        "    public void print() {\n",
        "        System.out.println(\"Calculation method = \" + this.name);\n",
        "        System.out.println(\"fibonacci Number \" + this.size + \" = \" + this.getNth());\n",
        "        System.out.println(\"fibonacci List = \" + this.list);\n",
        "        System.out.println(\"fibonacci Hashmap = \" + this.hash);\n",
        "        for (int i = 0; i < this.size; i++) {\n",
        "            System.out.println(\"fibonacci Sequence \" + (i + 1) + \" = \" + this.getNthSeq(i));\n",
        "        }\n",
        "    }\n",
        "}\n",
        "\n"
      ]
    },
    {
      "cell_type": "code",
      "execution_count": 4,
      "metadata": {},
      "outputs": [
        {
          "name": "stdout",
          "output_type": "stream",
          "text": [
            "Calculation method = FiboFor extends Fibo\n",
            "fibonacci Number 2 = 1\n",
            "fibonacci List = [0, 1]\n",
            "fibonacci Hashmap = {0=[0], 1=[0, 1]}\n",
            "fibonacci Sequence 1 = [0]\n",
            "fibonacci Sequence 2 = [0, 1]\n",
            "\n",
            "Calculation method = FiboFor extends Fibo\n",
            "fibonacci Number 5 = 3\n",
            "fibonacci List = [0, 1, 1, 2, 3]\n",
            "fibonacci Hashmap = {0=[0], 1=[0, 1], 2=[0, 1, 1], 3=[0, 1, 1, 2], 4=[0, 1, 1, 2, 3]}\n",
            "fibonacci Sequence 1 = [0]\n",
            "fibonacci Sequence 2 = [0, 1]\n",
            "fibonacci Sequence 3 = [0, 1, 1]\n",
            "fibonacci Sequence 4 = [0, 1, 1, 2]\n",
            "fibonacci Sequence 5 = [0, 1, 1, 2, 3]\n",
            "\n",
            "Calculation method = FiboFor extends Fibo\n",
            "fibonacci Number 8 = 13\n",
            "fibonacci List = [0, 1, 1, 2, 3, 5, 8, 13]\n",
            "fibonacci Hashmap = {0=[0], 1=[0, 1], 2=[0, 1, 1], 3=[0, 1, 1, 2], 4=[0, 1, 1, 2, 3], 5=[0, 1, 1, 2, 3, 5], 6=[0, 1, 1, 2, 3, 5, 8], 7=[0, 1, 1, 2, 3, 5, 8, 13]}\n",
            "fibonacci Sequence 1 = [0]\n",
            "fibonacci Sequence 2 = [0, 1]\n",
            "fibonacci Sequence 3 = [0, 1, 1]\n",
            "fibonacci Sequence 4 = [0, 1, 1, 2]\n",
            "fibonacci Sequence 5 = [0, 1, 1, 2, 3]\n",
            "fibonacci Sequence 6 = [0, 1, 1, 2, 3, 5]\n",
            "fibonacci Sequence 7 = [0, 1, 1, 2, 3, 5, 8]\n",
            "fibonacci Sequence 8 = [0, 1, 1, 2, 3, 5, 8, 13]\n",
            "\n"
          ]
        }
      ],
      "source": [
        "public class FiboFor extends Fibo {\n",
        "    public FiboFor() {\n",
        "        super();\n",
        "    }\n",
        "    public FiboFor(int nth) {\n",
        "        super(nth);\n",
        "    }\n",
        "    @Override\n",
        "    protected void calc() {\n",
        "        super.name = \"FiboFor extends Fibo\";\n",
        "        long limit = this.size;\n",
        "        for (long[] f = new long[]{0, 1}; limit-- > 0; f = new long[]{f[1], f[0] + f[1]})\n",
        "            this.setData(f[0]);\n",
        "    }\n",
        "    static public void main(int... numbers) {\n",
        "        for (int nth : numbers) {\n",
        "            Fibo fib = new FiboFor(nth);\n",
        "            fib.print();\n",
        "            System.out.println();\n",
        "        }\n",
        "    }\n",
        "}\n",
        "FiboFor.main(2, 5, 8);"
      ]
    }
  ],
  "metadata": {
    "kernelspec": {
      "display_name": "Java",
      "language": "java",
      "name": "java"
    },
    "language_info": {
      "codemirror_mode": "java",
      "file_extension": ".jshell",
      "mimetype": "text/x-java-source",
      "name": "java",
      "pygments_lexer": "java",
      "version": "17.0.14+7-Ubuntu-122.04.1"
    }
  },
  "nbformat": 4,
  "nbformat_minor": 2
}

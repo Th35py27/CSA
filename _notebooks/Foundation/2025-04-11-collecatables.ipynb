{
 "cells": [
  {
   "cell_type": "code",
   "execution_count": null,
   "id": "41cad44d",
   "metadata": {},
   "outputs": [
    {
     "name": "stdout",
     "output_type": "stream",
     "text": [
      "2\n",
      "4\n",
      "6\n",
      "8\n",
      "10\n"
     ]
    }
   ],
   "source": [
    "// Popcorn Hack 1\n",
    "\n",
    "import java.util.ArrayList;\n",
    "import java.util.Collections;\n",
    "\n",
    "public class ListExperiment {\n",
    "    public static void main(String[] args) {\n",
    "        ArrayList<Integer> list = new ArrayList<>();\n",
    "\n",
    "        list.add(1);\n",
    "        list.add(2);\n",
    "        list.add(3);\n",
    "        list.add(4);\n",
    "        list.add(5);\n",
    "        list.add(6);\n",
    "        list.add(7);\n",
    "        list.add(8);\n",
    "        list.add(9);\n",
    "        list.add(10);\n",
    "\n",
    "        Collections.sort(list); // Sort the list\n",
    "\n",
    "        for (Integer number : list) { // Iterate over the elements\n",
    "            if (number % 2 == 0) { // Check if the number is even\n",
    "                System.out.println(number);\n",
    "            }\n",
    "        }\n",
    "    }\n",
    "}\n",
    "\n",
    "ListExperiment.main(null);"
   ]
  },
  {
   "cell_type": "code",
   "execution_count": 12,
   "id": "de114740",
   "metadata": {},
   "outputs": [
    {
     "name": "stdout",
     "output_type": "stream",
     "text": [
      "Enter a name to search for their phone number:\n",
      "Phone number for Eve: 998877665\n"
     ]
    }
   ],
   "source": [
    "// Popcorn Hack 2\n",
    "\n",
    "import java.util.HashMap;\n",
    "import java.util.Map;\n",
    "import java.util.Scanner;\n",
    "\n",
    "public class PhoneBook {\n",
    "    public static void main(String[] args) {\n",
    "        Map<String, Integer> phoneset = new HashMap<>();\n",
    "\n",
    "        phoneset.put(\"Alice\", 123456789);\n",
    "        phoneset.put(\"Bob\", 298765432); \n",
    "        phoneset.put(\"Charlie\", 112233445);\n",
    "        phoneset.put(\"David\", 556677889);\n",
    "        phoneset.put(\"Eve\", 998877665); \n",
    "\n",
    "        Scanner scanner = new Scanner(System.in);\n",
    "        System.out.println(\"Enter a name to search for their phone number:\");\n",
    "        String name = scanner.nextLine();\n",
    "        if (phoneset.containsKey(name)) {\n",
    "            System.out.println(\"Phone number for \" + name + \": \" + phoneset.get(name));\n",
    "        } else {\n",
    "            System.out.println(\"Name not found in the phone book.\");\n",
    "        }\n",
    "        scanner.close();\n",
    "    }\n",
    "}\n",
    "\n",
    "PhoneBook.main(null);"
   ]
  },
  {
   "cell_type": "code",
   "execution_count": 2,
   "id": "10551136",
   "metadata": {},
   "outputs": [
    {
     "name": "stdout",
     "output_type": "stream",
     "text": [
      "Elements in the deque:[Third, First, Second]\n"
     ]
    }
   ],
   "source": [
    "// Popcorn Hack 3\n",
    "\n",
    "import java.util.ArrayDeque;\n",
    "import java.util.Deque;\n",
    "\n",
    "\n",
    "\n",
    "public class DequeExperiment {\n",
    "    public static void main(String[] args) {\n",
    "\n",
    "        Deque<String> deque = new ArrayDeque<>();\n",
    "        deque.addFirst(\"First\");\n",
    "        deque.addLast(\"Second\");\n",
    "        deque.addFirst(\"Third\");\n",
    "        deque.addLast(\"Fourth\");\n",
    "        deque.addFirst(\"Fifth\");\n",
    "\n",
    "        deque.removeFirst();\n",
    "        deque.removeLast();\n",
    "\n",
    "        System.out.println(\"Elements in the deque:\" + deque);\n",
    "    }\n",
    "}\n",
    "\n",
    "DequeExperiment.main(null);"
   ]
  },
  {
   "cell_type": "code",
   "execution_count": 10,
   "id": "9590a4a9",
   "metadata": {},
   "outputs": [
    {
     "name": "stdout",
     "output_type": "stream",
     "text": [
      "Numbers: [1, 2, 3, 4, 5, 6, 7, 8, 9, 10]\n",
      "Filtered Numbers: [2, 4, 6, 8, 10]\n"
     ]
    }
   ],
   "source": [
    "// Part 1 HW\n",
    "public class filterEvenNumbers{\n",
    "    public static void main(String[] args) {\n",
    "        ArrayList<Integer> numbers = new ArrayList<>();\n",
    "        ArrayList<Integer> evenNumbers = new ArrayList<>();\n",
    "        numbers.add(1);\n",
    "        numbers.add(2);\n",
    "        numbers.add(3);\n",
    "        numbers.add(4);\n",
    "        numbers.add(5);\n",
    "        numbers.add(6);\n",
    "        numbers.add(7);\n",
    "        numbers.add(8);\n",
    "        numbers.add(9);\n",
    "        numbers.add(10);\n",
    "\n",
    "        System.out.println(\"Numbers: \" + numbers);\n",
    "\n",
    "        for (int i=0; i < numbers.size(); i++) {\n",
    "            int number = numbers.get(i);\n",
    "            if (number % 2 == 0) {\n",
    "                evenNumbers.add(number);\n",
    "            }\n",
    "        \n",
    "        }\n",
    "\n",
    "        System.out.println(\"Filtered Numbers: \" + evenNumbers);\n",
    "\n",
    "    }\n",
    "}\n",
    "\n",
    "filterEvenNumbers.main(null);"
   ]
  },
  {
   "cell_type": "code",
   "execution_count": 24,
   "id": "e38ea0e9",
   "metadata": {},
   "outputs": [
    {
     "name": "stdout",
     "output_type": "stream",
     "text": [
      "Set 1: [banana, date, apple, cherry]\n",
      "Set 2: [banana, cherry, fig, grape]\n",
      "Intersection: [banana, cherry]\n"
     ]
    }
   ],
   "source": [
    "// Part 2 HW\n",
    "\n",
    "import java.util.HashSet;\n",
    "import java.util.Set;\n",
    "\n",
    "public class FindIntersection {\n",
    "    public static void main(String[] args) {\n",
    "\n",
    "        HashSet<String> set1 = new HashSet<>();\n",
    "        HashSet<String> set2 = new HashSet<>();\n",
    "\n",
    "\n",
    "        set1.add(\"apple\");\n",
    "        set1.add(\"banana\");\n",
    "        set1.add(\"cherry\");\n",
    "        set1.add(\"date\");\n",
    "\n",
    "        set2.add(\"banana\");\n",
    "        set2.add(\"cherry\");\n",
    "        set2.add(\"fig\");\n",
    "        set2.add(\"grape\");\n",
    "\n",
    "        System.out.println(\"Set 1: \" + set1);\n",
    "        System.out.println(\"Set 2: \" + set2);\n",
    "        \n",
    "        Set<String> intersection = findIntersection(set1, set2);\n",
    "\n",
    "        System.out.println(\"Intersection: \" + intersection);\n",
    "    }\n",
    "\n",
    "    public static Set<String> findIntersection(Set<String> set1, Set<String> set2) {\n",
    "        Set<String> result = new HashSet<>();\n",
    "        for (String element : set1) {\n",
    "            if (set2.contains(element)) {\n",
    "                result.add(element);\n",
    "            }\n",
    "        }\n",
    "        return result;\n",
    "    }\n",
    "}\n",
    "\n",
    "FindIntersection.main(null);"
   ]
  },
  {
   "cell_type": "code",
   "execution_count": 30,
   "id": "47dd0f85",
   "metadata": {},
   "outputs": [
    {
     "name": "stdout",
     "output_type": "stream",
     "text": [
      "Initial line after adding 4 customers (end): [Alice, Bob, Charlie, Diana]\n",
      "After VIP arrival (added at front): [VIP1, Alice, Bob, Charlie, Diana]\n",
      "After serving the customer at the front (removed): [Alice, Bob, Charlie, Diana]\n",
      "Current front of the line: Alice\n",
      "Current back of the line: Diana\n",
      "Total number of customers waiting: 4\n",
      "After VIP arrival (added at front): [VIP1, Alice, Bob, Charlie, Diana]\n",
      "After serving the customer at the front (removed): [Alice, Bob, Charlie, Diana]\n",
      "Current front of the line: Alice\n",
      "Current back of the line: Diana\n",
      "Total number of customers waiting: 4\n"
     ]
    }
   ],
   "source": [
    "// Part 3 HW\n",
    "\n",
    "import java.util.ArrayDeque;\n",
    "import java.util.Deque;\n",
    "\n",
    "public class CustomerLineSimulation {\n",
    "    public static void main(String[] args) {\n",
    "        // Create a deque to simulate the line\n",
    "        Deque<String> customerLine = new ArrayDeque<>();\n",
    "\n",
    "\n",
    "        customerLine.addLast(\"Alice\");\n",
    "        customerLine.addLast(\"Bob\");\n",
    "        customerLine.addLast(\"Charlie\");\n",
    "        customerLine.addLast(\"Diana\");\n",
    "        System.out.println(\"Initial line after adding 4 customers (end): \" + customerLine);\n",
    "\n",
    "\n",
    "        customerLine.addFirst(\"VIP1\");\n",
    "        System.out.println(\"After VIP arrival (added at front): \" + customerLine);\n",
    "\n",
    "\n",
    "        customerLine.removeFirst();\n",
    "        System.out.println(\"After serving the customer at the front (removed): \" + customerLine);\n",
    "\n",
    "\n",
    "        System.out.println(\"Current front of the line: \" + customerLine.peekFirst());\n",
    "        System.out.println(\"Current back of the line: \" + customerLine.peekLast());\n",
    "\n",
    "\n",
    "        System.out.println(\"Total number of customers waiting: \" + customerLine.size());\n",
    "    }\n",
    "}\n",
    "\n",
    "CustomerLineSimulation.main(null);"
   ]
  }
 ],
 "metadata": {
  "kernelspec": {
   "display_name": "Java",
   "language": "java",
   "name": "java"
  },
  "language_info": {
   "codemirror_mode": "java",
   "file_extension": ".jshell",
   "mimetype": "text/x-java-source",
   "name": "java",
   "pygments_lexer": "java",
   "version": "17.0.14+7-Ubuntu-122.04.1"
  }
 },
 "nbformat": 4,
 "nbformat_minor": 5
}

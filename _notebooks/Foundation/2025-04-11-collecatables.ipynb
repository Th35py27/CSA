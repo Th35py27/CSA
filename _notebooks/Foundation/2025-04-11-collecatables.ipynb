{
 "cells": [
  {
   "cell_type": "code",
   "execution_count": null,
   "id": "41cad44d",
   "metadata": {
    "vscode": {
     "languageId": "java"
    }
   },
   "outputs": [
    {
     "name": "stdout",
     "output_type": "stream",
     "text": [
      "2\n",
      "4\n",
      "6\n",
      "8\n",
      "10\n"
     ]
    }
   ],
   "source": [
    "// Popcorn Hack 1\n",
    "\n",
    "import java.util.ArrayList;\n",
    "import java.util.Collections;\n",
    "\n",
    "public class ListExperiment {\n",
    "    public static void main(String[] args) {\n",
    "        ArrayList<Integer> list = new ArrayList<>();\n",
    "\n",
    "        list.add(1);\n",
    "        list.add(2);\n",
    "        list.add(3);\n",
    "        list.add(4);\n",
    "        list.add(5);\n",
    "        list.add(6);\n",
    "        list.add(7);\n",
    "        list.add(8);\n",
    "        list.add(9);\n",
    "        list.add(10);\n",
    "\n",
    "        Collections.sort(list); // Sort the list\n",
    "\n",
    "        for (Integer number : list) { // Iterate over the elements\n",
    "            if (number % 2 == 0) { // Check if the number is even\n",
    "                System.out.println(number);\n",
    "            }\n",
    "        }\n",
    "    }\n",
    "}\n",
    "\n",
    "ListExperiment.main(null);"
   ]
  },
  {
   "cell_type": "code",
   "execution_count": 12,
   "id": "de114740",
   "metadata": {
    "vscode": {
     "languageId": "java"
    }
   },
   "outputs": [
    {
     "name": "stdout",
     "output_type": "stream",
     "text": [
      "Enter a name to search for their phone number:\n",
      "Phone number for Eve: 998877665\n"
     ]
    }
   ],
   "source": [
    "// Popcorn Hack 2\n",
    "\n",
    "import java.util.HashMap;\n",
    "import java.util.Map;\n",
    "import java.util.Scanner;\n",
    "\n",
    "public class PhoneBook {\n",
    "    public static void main(String[] args) {\n",
    "        Map<String, Integer> phoneset = new HashMap<>();\n",
    "\n",
    "        phoneset.put(\"Alice\", 123456789);\n",
    "        phoneset.put(\"Bob\", 298765432); \n",
    "        phoneset.put(\"Charlie\", 112233445);\n",
    "        phoneset.put(\"David\", 556677889);\n",
    "        phoneset.put(\"Eve\", 998877665); \n",
    "\n",
    "        Scanner scanner = new Scanner(System.in);\n",
    "        System.out.println(\"Enter a name to search for their phone number:\");\n",
    "        String name = scanner.nextLine();\n",
    "        if (phoneset.containsKey(name)) {\n",
    "            System.out.println(\"Phone number for \" + name + \": \" + phoneset.get(name));\n",
    "        } else {\n",
    "            System.out.println(\"Name not found in the phone book.\");\n",
    "        }\n",
    "        scanner.close();\n",
    "    }\n",
    "}\n",
    "\n",
    "PhoneBook.main(null);"
   ]
  },
  {
   "cell_type": "code",
   "execution_count": null,
   "id": "10551136",
   "metadata": {
    "vscode": {
     "languageId": "java"
    }
   },
   "outputs": [],
   "source": [
    "// Popcorn Hack 3\n",
    "\n",
    "import java.util.ArrayDeque;\n",
    "import java.util.Deque;\n",
    "\n",
    "\n",
    "\n",
    "public class DequeExperiment {\n",
    "    public static void main(String[] args) {\n",
    "\n",
    "        Deque<String> deque = new ArrayDeque<>();\n",
    "        deque.add(\"First\");\n",
    "        deque.add(\"Second\");\n",
    "        deque.add(\"Third\");\n",
    "        deque.add(\"Fourth\");\n",
    "        deque.add(\"Fifth\");\n",
    "    }\n",
    "}\n",
    "\n",
    "DequeExperiment.main(null);"
   ]
  }
 ],
 "metadata": {
  "kernelspec": {
   "display_name": "Java",
   "language": "java",
   "name": "java"
  },
  "language_info": {
   "codemirror_mode": "java",
   "file_extension": ".jshell",
   "mimetype": "text/x-java-source",
   "name": "Java",
   "pygments_lexer": "java",
   "version": "17.0.14+7-Ubuntu-122.04.1"
  }
 },
 "nbformat": 4,
 "nbformat_minor": 5
}

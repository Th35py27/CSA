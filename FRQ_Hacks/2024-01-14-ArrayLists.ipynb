{
 "cells": [
  {
   "cell_type": "code",
   "execution_count": 1,
   "metadata": {
    "vscode": {
     "languageId": "java"
    }
   },
   "outputs": [
    {
     "name": "stdout",
     "output_type": "stream",
     "text": [
      "[5, 10, 11, 200, 500]\n"
     ]
    }
   ],
   "source": [
    "// Warmup\n",
    "\n",
    "ArrayList<Integer> list = new ArrayList<Integer>();\n",
    "\n",
    "list.add(5);\n",
    "list.add(10);\n",
    "list.add(11);\n",
    "list.add(200);\n",
    "list.add(500);\n",
    "\n",
    "//System.out.println(list);\n",
    "\n",
    "\n",
    "\n"
   ]
  },
  {
   "cell_type": "code",
   "execution_count": null,
   "metadata": {
    "vscode": {
     "languageId": "java"
    }
   },
   "outputs": [],
   "source": []
  }
 ],
 "metadata": {
  "kernelspec": {
   "display_name": "Java",
   "language": "java",
   "name": "java"
  },
  "language_info": {
   "codemirror_mode": "java",
   "file_extension": ".jshell",
   "mimetype": "text/x-java-source",
   "name": "Java",
   "pygments_lexer": "java",
   "version": "17.0.13+11-Ubuntu-2ubuntu122.04"
  }
 },
 "nbformat": 4,
 "nbformat_minor": 2
}

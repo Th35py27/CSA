{
 "cells": [
  {
   "cell_type": "markdown",
   "metadata": {
    "vscode": {
     "languageId": "plaintext"
    }
   },
   "source": [
    "---\n",
    "layout: post\n",
    "title: MCQ Corrections\n",
    "type: ccc\n",
    "toc: True\n",
    "courses: {'csa': {'week': 13}}\n",
    "comments: True\n",
    "---"
   ]
  },
  {
   "cell_type": "markdown",
   "metadata": {
    "vscode": {
     "languageId": "plaintext"
    }
   },
   "source": [
    "# Popcorn Hack 1\n",
    "(document).ready(function(){     // \n",
    "    $(\"button\").click(function(){ //\n",
    "      $(\"p\").hide();              //\n",
    "    });                           //\n",
    "  });      \n",
    "\n",
    "\n",
    "  - Selector is \"p\" for the hide and \"button\" for the click function"
   ]
  },
  {
   "cell_type": "markdown",
   "metadata": {
    "vscode": {
     "languageId": "plaintext"
    }
   },
   "source": [
    "# Homework (jQuery)\n",
    "\n",
    "<!DOCTYPE html>\n",
    "<html lang=\"en\">\n",
    "<head>\n",
    "    <meta charset=\"UTF-8\">\n",
    "    <meta name=\"viewport\" content=\"width=device-width, initial-scale=1.0\">\n",
    "    <title>jQuery Dynamic Update</title>\n",
    "    <script src=\"https://code.jquery.com/jquery-3.6.0.min.js\"></script>\n",
    "</head>\n",
    "<body>\n",
    "\n",
    "    <input type=\"text\" id=\"userInput\" placeholder=\"Enter something\">\n",
    "    <button id=\"updateButton\">Update Text</button>\n",
    "    <p id=\"output\">This text will be updated.</p>\n",
    "\n",
    "    <script>\n",
    "        $(document).ready(function(){\n",
    "            $(\"#updateButton\").click(function(){\n",
    "                let inputText = $(\"#userInput\").val();\n",
    "                $(\"#output\").text(inputText);\n",
    "            });\n",
    "        });\n",
    "    </script>\n",
    "\n",
    "</body>\n",
    "</html>\n"
   ]
  },
  {
   "cell_type": "markdown",
   "metadata": {
    "vscode": {
     "languageId": "plaintext"
    }
   },
   "source": [
    "# Homework (Thymeleaf)\n",
    "\n",
    "\n",
    "<!DOCTYPE html>\n",
    "<html xmlns:th=\"http://www.thymeleaf.org\">\n",
    "<head>\n",
    "    <title>Student List</title>\n",
    "    <link rel=\"stylesheet\" \n",
    "          href=\"https://cdn.jsdelivr.net/npm/bootstrap@5.3.0/dist/css/bootstrap.min.css\">\n",
    "</head>\n",
    "<body>\n",
    "    <div class=\"container mt-4\">\n",
    "        <h2 class=\"text-center\">Student List</h2>\n",
    "        <table class=\"table table-bordered table-striped\">\n",
    "            <thead class=\"table-dark\">\n",
    "                <tr>\n",
    "                    <th>Name</th>\n",
    "                    <th>Grade</th>\n",
    "                    <th>Status</th>\n",
    "                </tr>\n",
    "            </thead>\n",
    "            <tbody>\n",
    "                <tr th:each=\"student : ${students}\" \n",
    "                    th:class=\"${student.getStatus()} ? 'table-success' : 'table-danger'\">\n",
    "                    <td th:text=\"${student.getName()}\"></td>\n",
    "                    <td th:text=\"${student.getGrade()}\"></td>\n",
    "                    <td>\n",
    "                        <span th:if=\"${student.getStatus()}\" class=\"text-success fw-bold\">\n",
    "                            Passed\n",
    "                        </span>\n",
    "                        <span th:unless=\"${student.getStatus()}\" class=\"text-danger fw-bold\">\n",
    "                            Failed\n",
    "                        </span>\n",
    "                    </td>\n",
    "                </tr>\n",
    "            </tbody>\n",
    "        </table>\n",
    "    </div>\n",
    "</body>\n",
    "</html>\n",
    "\n"
   ]
  },
  {
   "cell_type": "code",
   "execution_count": 2,
   "metadata": {},
   "outputs": [
    {
     "name": "stdout",
     "output_type": "stream",
     "text": [
      "2 \n",
      "4 \n",
      "6 \n",
      "\n",
      "2 \n",
      "4 \n",
      "6 \n",
      "\n",
      "4 \n",
      "6 \n",
      "\n",
      "4 \n",
      "6 \n",
      "\n",
      "6 \n",
      "\n",
      "6 \n",
      "\n"
     ]
    }
   ],
   "source": [
    "for (int outer = 1; outer <= 6; outer++){\n",
    "    for (int inner = outer; inner <=6; inner++){\n",
    "        if (inner % 2 == 0){\n",
    "            System.out.println(inner + \" \");\n",
    "        }\n",
    "    }\n",
    "    System.out.println();\n",
    "}"
   ]
  }
 ],
 "metadata": {
  "kernelspec": {
   "display_name": "Java",
   "language": "java",
   "name": "java"
  },
  "language_info": {
   "codemirror_mode": "java",
   "file_extension": ".jshell",
   "mimetype": "text/x-java-source",
   "name": "java",
   "pygments_lexer": "java",
   "version": "17.0.14+7-Ubuntu-122.04.1"
  }
 },
 "nbformat": 4,
 "nbformat_minor": 2
}

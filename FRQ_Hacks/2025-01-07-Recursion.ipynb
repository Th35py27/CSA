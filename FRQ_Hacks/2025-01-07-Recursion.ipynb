{
 "cells": [
  {
   "cell_type": "code",
   "execution_count": 15,
   "metadata": {
    "vscode": {
     "languageId": "java"
    }
   },
   "outputs": [
    {
     "name": "stdout",
     "output_type": "stream",
     "text": [
      "120\n"
     ]
    }
   ],
   "source": [
    "// Popcorn Hack 1\n",
    "\n",
    "\n",
    "public static int factorial(int target) {\n",
    "\t\n",
    "    if (target == 0){\n",
    "        return 1; \n",
    "    }\n",
    "\n",
    "    if (target < 0){\n",
    "        return 0; \n",
    "    }\n",
    "\n",
    "    return target * factorial(target - 1);\n",
    "}\n",
    "\n",
    "\n",
    "System.out.println(factorial(5));"
   ]
  },
  {
   "cell_type": "code",
   "execution_count": 47,
   "metadata": {
    "vscode": {
     "languageId": "java"
    }
   },
   "outputs": [
    {
     "name": "stdout",
     "output_type": "stream",
     "text": [
      "40\n"
     ]
    }
   ],
   "source": [
    "// Popcorn Hack 2\n",
    "\n",
    "public static int sumArray(int[] arr, int index) { \n",
    "    if (index >= arr.length){\n",
    "        return 0;\n",
    "    }\n",
    "\n",
    "    return arr[index] + sumArray(arr, index + 1);\n",
    "    \n",
    "} \n",
    "\n",
    "\n",
    "public static void Main(String[] args){\n",
    "    int[] array = {1,2,3,4,5,6,7,8,9,10};\n",
    "    System.out.println(sumArray(array, 5));\n",
    "}\n",
    "\n",
    "Main(null);"
   ]
  },
  {
   "cell_type": "code",
   "execution_count": 62,
   "metadata": {
    "vscode": {
     "languageId": "java"
    }
   },
   "outputs": [
    {
     "name": "stdout",
     "output_type": "stream",
     "text": [
      "Original array:\n",
      "64 25 12 22 11 \n",
      "Sorted array:\n",
      "11 12 22 25 64 "
     ]
    }
   ],
   "source": [
    "// Popcorn Hack 3\n",
    "public static int selectionSort(int[] arr, int index) { \n",
    "    if (index >= arr.length - 1) {\n",
    "        return -1; \n",
    "    }\n",
    "\n",
    "    int minIndex = index;\n",
    "\n",
    "    for (int i = index + 1; i < arr.length; i++) {\n",
    "        if (arr[i] < arr[minIndex]) {\n",
    "            minIndex = i;\n",
    "        }\n",
    "    }\n",
    "\n",
    "    int temp = arr[index];\n",
    "    arr[index] = arr[minIndex];\n",
    "    arr[minIndex] = temp;\n",
    "\n",
    "    return selectionSort(arr, index + 1);\n",
    "}\n",
    "\n",
    "\n",
    "public static void main(String[] args) {\n",
    "    int[] array = {64, 25, 12, 22, 11}; \n",
    "\n",
    "    System.out.println(\"Original array:\");\n",
    "    for (int num : array) {\n",
    "        System.out.print(num + \" \");\n",
    "    }\n",
    "    System.out.println();\n",
    "\n",
    "    selectionSort(array, 0);\n",
    "\n",
    "    System.out.println(\"Sorted array:\");\n",
    "    for (int num : array) {\n",
    "        System.out.print(num + \" \");\n",
    "    }\n",
    "}\n",
    "\n",
    "main(null);\n"
   ]
  },
  {
   "cell_type": "code",
   "execution_count": 61,
   "metadata": {
    "vscode": {
     "languageId": "java"
    }
   },
   "outputs": [
    {
     "name": "stdout",
     "output_type": "stream",
     "text": [
      "Original 2D Array:\n",
      "64 25 12 \n",
      "22 11 90 \n",
      "5 8 1 \n",
      "Sorted 2D Array:\n",
      "1 5 8 \n",
      "11 12 22 \n",
      "25 64 90 \n"
     ]
    }
   ],
   "source": [
    "// Popcorn Hack 4\n",
    "public static void sumArray(int[][] arr, int x_index, int y_index) {\n",
    "    if (x_index >= arr.length) {\n",
    "        return;\n",
    "    }\n",
    "\n",
    "    int currentIndex = x_index * arr[0].length + y_index;\n",
    "    int minIndex = currentIndex; \n",
    "\n",
    "    for (int i = currentIndex; i < arr.length * arr[0].length; i++) {\n",
    "        int row = i / arr[0].length;\n",
    "        int col = i % arr[0].length; \n",
    "        if (arr[row][col] < arr[minIndex / arr[0].length][minIndex % arr[0].length]) {\n",
    "            minIndex = i; \n",
    "        }\n",
    "    }\n",
    "\n",
    "    int minRow = minIndex / arr[0].length;\n",
    "    int minCol = minIndex % arr[0].length;\n",
    "    int temp = arr[x_index][y_index];\n",
    "    arr[x_index][y_index] = arr[minRow][minCol];\n",
    "    arr[minRow][minCol] = temp;\n",
    "\n",
    "    if (y_index + 1 < arr[0].length) {\n",
    "        sumArray(arr, x_index, y_index + 1);\n",
    "    } else {\n",
    "        sumArray(arr, x_index + 1, 0);\n",
    "    }\n",
    "}\n",
    "\n",
    "public static void main(String[] args) {\n",
    "    int[][] array = {\n",
    "        {64, 25, 12},\n",
    "        {22, 11, 90},\n",
    "        {5, 8, 1}\n",
    "    };\n",
    "\n",
    "    System.out.println(\"Original 2D Array:\");\n",
    "    for (int[] row : array) {\n",
    "        for (int num : row) {\n",
    "            System.out.print(num + \" \");\n",
    "        }\n",
    "        System.out.println();\n",
    "    }\n",
    "\n",
    "    sumArray(array, 0, 0);\n",
    "\n",
    "    System.out.println(\"Sorted 2D Array:\");\n",
    "    for (int[] row : array) {\n",
    "        for (int num : row) {\n",
    "            System.out.print(num + \" \");\n",
    "        }\n",
    "        System.out.println();\n",
    "    }\n",
    "}\n",
    "\n",
    "\n",
    "\n",
    "main(null);"
   ]
  },
  {
   "cell_type": "code",
   "execution_count": 10,
   "metadata": {
    "vscode": {
     "languageId": "java"
    }
   },
   "outputs": [
    {
     "name": "stdout",
     "output_type": "stream",
     "text": [
      "Sorted Students:\n",
      "aadit - Performance Score: 580\n",
      "srijus - Performance Score: 564\n",
      "shubs - Performance Score: 550\n",
      "erox - Performance Score: 543\n",
      "aashray - Performance Score: 333\n"
     ]
    }
   ],
   "source": [
    "//Homework\n",
    "public class Student {\n",
    "    String name;\n",
    "    int efficiency, collab, iq;\n",
    "    int performanceScore;\n",
    "\n",
    "    public Student (String name, int efficiency, int collab, int iq) {\n",
    "        this.name = name;\n",
    "        this.efficiency = efficiency;\n",
    "        this.collab = collab;\n",
    "        this.iq = iq;\n",
    "        this.performanceScore = calculatePerformanceScore();\n",
    "    }\n",
    "\n",
    "    public int calculatePerformanceScore() {\n",
    "        return (collab * 2) + (iq * 3) + efficiency;\n",
    "    }\n",
    "}\n",
    "\n",
    "public static void sumArray(int[] scores, int index) { \n",
    "    if (index >= scores.length - 1) {\n",
    "        return;\n",
    "    }\n",
    "\n",
    "    int maxIndex = index;\n",
    "    for (int i = index + 1; i < scores.length; i++) {\n",
    "        if (scores[i] > scores[maxIndex]) {\n",
    "            maxIndex = i;\n",
    "        }\n",
    "    }\n",
    "\n",
    "    int temp = scores[index];\n",
    "    scores[index] = scores[maxIndex];\n",
    "    scores[maxIndex] = temp;\n",
    "\n",
    "    sumArray(scores, index + 1);\n",
    "}\n",
    "\n",
    "public static void main(String[] args) {\n",
    "    ArrayList<Student> students = new ArrayList<>();\n",
    "    students.add(new Student(\"srijus\", 98, 95, 92));\n",
    "    students.add(new Student(\"aadit\", 95, 97, 97));\n",
    "    students.add(new Student(\"erox\", 90, 93, 89));\n",
    "    students.add(new Student(\"shubs\", 92, 94, 90));\n",
    "    students.add(new Student(\"aashray\", 50, 53, 59));\n",
    "\n",
    "    int[] scores = new int[5];\n",
    "    for (int i = 0; i < students.size(); i++) {\n",
    "        scores[i] = students.get(i).performanceScore;\n",
    "    }\n",
    "\n",
    "    sumArray(scores, 0);\n",
    "\n",
    "    ArrayList<Student> sortedStudents = new ArrayList<>();\n",
    "    for (int score : scores) {\n",
    "        for (int i = 0; i < students.size(); i++) {\n",
    "            if (students.get(i).performanceScore == score) {\n",
    "                sortedStudents.add(students.get(i));\n",
    "            }\n",
    "        }\n",
    "    }\n",
    "\n",
    "    System.out.println(\"Sorted Students:\");\n",
    "    for (Student student : sortedStudents) {\n",
    "        System.out.println(student.name + \" - Performance Score: \" + student.performanceScore);\n",
    "    }\n",
    "}\n",
    "\n",
    "main(null);\n"
   ]
  }
 ],
 "metadata": {
  "kernelspec": {
   "display_name": "Java",
   "language": "java",
   "name": "java"
  },
  "language_info": {
   "codemirror_mode": "java",
   "file_extension": ".jshell",
   "mimetype": "text/x-java-source",
   "name": "Java",
   "pygments_lexer": "java",
   "version": "17.0.13+11-Ubuntu-2ubuntu122.04"
  }
 },
 "nbformat": 4,
 "nbformat_minor": 2
}

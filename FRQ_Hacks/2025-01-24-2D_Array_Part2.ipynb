{
 "cells": [
  {
   "cell_type": "code",
   "execution_count": 12,
   "metadata": {},
   "outputs": [
    {
     "name": "stdout",
     "output_type": "stream",
     "text": [
      "[6, 9, 6, 10, 8, 7, 10]\n"
     ]
    }
   ],
   "source": [
    "// Popcorn Hack 1\n",
    "\n",
    "\n",
    "int[][] grassData = {\n",
    "    {2, 3, 1, 4, 3, 2, 5},\n",
    "    {1, 2, 3, 1, 4, 2, 3},\n",
    "    {3, 4, 2, 5, 1, 3, 2}\n",
    "};\n",
    "\n",
    "int[] sum = new int[grassData[0].length];\n",
    "for (int i = 0; i < grassData.length; i++){\n",
    "    for(int j = 0; j < grassData[0].length; j++){\n",
    "        sum[j] += grassData[i][j];\n",
    "    }\n",
    "\n",
    "}\n",
    "\n",
    "System.out.println(java.util.Arrays.toString(sum));\n",
    "\n"
   ]
  },
  {
   "cell_type": "code",
   "execution_count": 43,
   "metadata": {},
   "outputs": [
    {
     "name": "stdout",
     "output_type": "stream",
     "text": [
      "Total Tastiness: 2\n",
      "Max Square Sum: 9\n",
      "Max Subarray Sum: 11\n"
     ]
    }
   ],
   "source": [
    "public class GrassPasture {\n",
    "    private int[][] pastures;\n",
    "\n",
    "    public GrassPasture(int[][] pastures) {\n",
    "        this.pastures = pastures;\n",
    "    }\n",
    "\n",
    "    public int getTotalGrass() {\n",
    "        int sum = 0;\n",
    "        for (int i = 0; i < pastures.length; i++) {\n",
    "            for (int j = 0; j < pastures[0].length; j++) {\n",
    "                sum += pastures[i][j];\n",
    "            }\n",
    "        }\n",
    "        return sum;\n",
    "    }\n",
    "\n",
    "    public int maxSquare() {\n",
    "        int maxSum = Integer.MIN_VALUE;\n",
    "        for (int i = 0; i < pastures.length; i++) {\n",
    "            for (int j = 0; j < pastures[i].length; j++) {\n",
    "                for (int size = 1; i + size <= pastures.length && j + size <= pastures[i].length; size++) {\n",
    "                    int squareSum = 0;\n",
    "                    for (int x = i; x < i + size; x++) {\n",
    "                        for (int y = j; y < j + size; y++) {\n",
    "                            squareSum += pastures[x][y];\n",
    "                        }\n",
    "                    }\n",
    "                    maxSum = Math.max(maxSum, squareSum);\n",
    "                }\n",
    "            }\n",
    "        }\n",
    "        return maxSum;\n",
    "    }\n",
    "\n",
    "    public int maxSubarraySum() {\n",
    "        int rows = pastures.length;\n",
    "        int cols = pastures[0].length;\n",
    "        int[] flatArray = new int[rows * cols];\n",
    "        int index = 0;\n",
    "        for (int i = 0; i < rows; i++) {\n",
    "            for (int j = 0; j < cols; j++) {\n",
    "                flatArray[index++] = pastures[i][j];\n",
    "            }\n",
    "        }\n",
    "        int maxSum = flatArray[0];\n",
    "        int currentSum = flatArray[0];\n",
    "        for (int i = 1; i < flatArray.length; i++) {\n",
    "            currentSum = Math.max(flatArray[i], currentSum + flatArray[i]);\n",
    "            maxSum = Math.max(maxSum, currentSum);\n",
    "        }\n",
    "        return maxSum;\n",
    "    }\n",
    "    \n",
    "\n",
    "    public static void main(String[] args) {\n",
    "        int[][] pastures = {\n",
    "            {-3, 6, -1},\n",
    "            {2, -1, 5},\n",
    "            {-9, 4, -1}\n",
    "        };\n",
    "\n",
    "        GrassPasture gp = new GrassPasture(pastures);\n",
    "\n",
    "        System.out.println(\"Total Tastiness: \" + gp.getTotalGrass()); // Expected: -2\n",
    "        System.out.println(\"Max Square Sum: \" + gp.maxSquare());     // Expected: 9\n",
    "        System.out.println(\"Max Subarray Sum: \" + gp.maxSubarraySum()); // Expected: 11\n",
    "    }\n",
    "}\n",
    "\n",
    "\n",
    "\n",
    "GrassPasture.main(null);"
   ]
  }
 ],
 "metadata": {
  "kernelspec": {
   "display_name": "Java",
   "language": "java",
   "name": "java"
  },
  "language_info": {
   "codemirror_mode": "java",
   "file_extension": ".jshell",
   "mimetype": "text/x-java-source",
   "name": "java",
   "pygments_lexer": "java",
   "version": "17.0.13+11-Ubuntu-2ubuntu122.04"
  }
 },
 "nbformat": 4,
 "nbformat_minor": 2
}

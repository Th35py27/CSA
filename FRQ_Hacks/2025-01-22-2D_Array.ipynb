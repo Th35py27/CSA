{
 "cells": [
  {
   "cell_type": "code",
   "execution_count": 5,
   "metadata": {
    "vscode": {
     "languageId": "java"
    }
   },
   "outputs": [
    {
     "name": "stdout",
     "output_type": "stream",
     "text": [
      "Updated Scores: 92, 70, 100\n"
     ]
    }
   ],
   "source": [
    "// Popcorn Hack 1\n",
    "int[][] scores = {\n",
    "    {100, 85, 95, 96},  // Student0\n",
    "    {98, 100, 100, 95}, // Student1\n",
    "    {92, 100, 98, 93},  // Student2\n",
    "    {100, 100, 97, 99}, // Student3\n",
    "    {100, 100, 100, 70},// Student4\n",
    "    {100, 100, 99, 98}, // Student5\n",
    "    {100, 94, 100, 93}  // Student6\n",
    "};\n",
    "\n",
    "int score1 = scores[2][0];  \n",
    "int score2 = scores[4][3];  \n",
    "int score3 = scores[6][3];  \n",
    "\n",
    "scores[6][3] = 100;\n",
    "int score3 = scores[6][3];\n",
    "\n",
    "\n",
    "\n",
    "System.out.println(\"Updated Scores: \" + score1 + \", \" + score2 + \", \" + score3);"
   ]
  },
  {
   "cell_type": "code",
   "execution_count": null,
   "metadata": {
    "vscode": {
     "languageId": "java"
    }
   },
   "outputs": [],
   "source": [
    "// Homework\n",
    "\n",
    "public static boolean isLatin(int[][] square){\n",
    "    if (containsDuplicates(square[0])){\n",
    "        return false;\n",
    "    }\n",
    "\n",
    "    for (int i=1; i<square.length; i++){\n",
    "        if (hasAllValues(square[0], square[i])){\n",
    "            return true;\n",
    "        }\n",
    "    }\n",
    "\n",
    "    for (int j=0; j<square[0].length; j++){\n",
    "        if (hasAllValues(square[0],getColumn(square,j))){\n",
    "            return true;\n",
    "        }\n",
    "    }\n",
    "\n",
    "    return false;\n",
    "}"
   ]
  },
  {
   "cell_type": "code",
   "execution_count": 5,
   "metadata": {
    "vscode": {
     "languageId": "java"
    }
   },
   "outputs": [
    {
     "name": "stdout",
     "output_type": "stream",
     "text": [
      "Original Array:\n",
      "\n",
      "1 -2 3 \n",
      "-4 5 -6 \n",
      "7 -8 9 \n",
      "Updated Array:\n",
      "\n",
      "1 0 3 \n",
      "0 5 0 \n",
      "7 0 9 \n"
     ]
    }
   ],
   "source": [
    "public static int[][] replaceNegatives(int[][] grid){\n",
    "    for (int i = 0; i < grid.length; i++){\n",
    "        for(int j = 0; j < grid[i].length; j++){\n",
    "            if (grid[i][j] < 0){\n",
    "                grid[i][j] = 0;\n",
    "            }\n",
    "        }\n",
    "    }\n",
    "\n",
    "    return grid;\n",
    "}\n",
    "\n",
    "\n",
    "public static void main(String[] args) {\n",
    "    int[][] grid = {\n",
    "        {1, -2, 3},\n",
    "        {-4, 5, -6},\n",
    "        {7, -8, 9}\n",
    "    };\n",
    "\n",
    "    System.out.println(\"Original Array:\");\n",
    "    System.out.println();\n",
    "\n",
    "    for (int i = 0; i < grid.length; i++) {\n",
    "        for (int j = 0; j < grid[i].length; j++) {\n",
    "            System.out.print(grid[i][j] + \" \");\n",
    "        }\n",
    "        System.out.println();\n",
    "    }\n",
    "\n",
    "    int[][] modifiedGrid = replaceNegatives(grid);\n",
    "\n",
    "\n",
    "    System.out.println(\"Updated Array:\");\n",
    "    System.out.println();\n",
    "    for (int i = 0; i < modifiedGrid.length; i++) {\n",
    "        for (int j = 0; j < modifiedGrid[i].length; j++) {\n",
    "            System.out.print(modifiedGrid[i][j] + \" \");\n",
    "        }\n",
    "        System.out.println();\n",
    "    }\n",
    "}\n",
    "\n",
    "\n",
    "main(null);"
   ]
  }
 ],
 "metadata": {
  "kernelspec": {
   "display_name": "Java",
   "language": "java",
   "name": "java"
  },
  "language_info": {
   "codemirror_mode": "java",
   "file_extension": ".jshell",
   "mimetype": "text/x-java-source",
   "name": "Java",
   "pygments_lexer": "java",
   "version": "17.0.13+11-Ubuntu-2ubuntu122.04"
  }
 },
 "nbformat": 4,
 "nbformat_minor": 2
}

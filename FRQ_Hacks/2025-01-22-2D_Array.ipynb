{
 "cells": [
  {
   "cell_type": "code",
   "execution_count": 5,
   "metadata": {},
   "outputs": [
    {
     "name": "stdout",
     "output_type": "stream",
     "text": [
      "Updated Scores: 92, 70, 100\n"
     ]
    }
   ],
   "source": [
    "// Popcorn Hack 1\n",
    "int[][] scores = {\n",
    "    {100, 85, 95, 96},  // Student0\n",
    "    {98, 100, 100, 95}, // Student1\n",
    "    {92, 100, 98, 93},  // Student2\n",
    "    {100, 100, 97, 99}, // Student3\n",
    "    {100, 100, 100, 70},// Student4\n",
    "    {100, 100, 99, 98}, // Student5\n",
    "    {100, 94, 100, 93}  // Student6\n",
    "};\n",
    "\n",
    "int score1 = scores[2][0];  \n",
    "int score2 = scores[4][3];  \n",
    "int score3 = scores[6][3];  \n",
    "\n",
    "scores[6][3] = 100;\n",
    "int score3 = scores[6][3];\n",
    "\n",
    "\n",
    "\n",
    "System.out.println(\"Updated Scores: \" + score1 + \", \" + score2 + \", \" + score3);"
   ]
  },
  {
   "cell_type": "code",
   "execution_count": null,
   "metadata": {},
   "outputs": [],
   "source": [
    "// Homework\n",
    "\n",
    "public static boolean isLatin(int[][] square){\n",
    "    if (containsDuplicates(square[0])){\n",
    "        return false;\n",
    "    }\n",
    "\n",
    "    for (int i=1; i<square.length; i++){\n",
    "        if (hasAllValues(square[0], square[i])){\n",
    "            return true;\n",
    "        }\n",
    "    }\n",
    "\n",
    "    for (int j=0; j<square[0].length; j++){\n",
    "        if (hasAllValues(square[0],getColumn(square,j))){\n",
    "            return true;\n",
    "        }\n",
    "    }\n",
    "\n",
    "    return false;\n",
    "}"
   ]
  }
 ],
 "metadata": {
  "kernelspec": {
   "display_name": "Java",
   "language": "java",
   "name": "java"
  },
  "language_info": {
   "codemirror_mode": "java",
   "file_extension": ".jshell",
   "mimetype": "text/x-java-source",
   "name": "java",
   "pygments_lexer": "java",
   "version": "17.0.13+11-Ubuntu-2ubuntu122.04"
  }
 },
 "nbformat": 4,
 "nbformat_minor": 2
}

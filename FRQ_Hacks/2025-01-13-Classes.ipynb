{
 "cells": [
  {
   "cell_type": "markdown",
   "metadata": {
    "vscode": {
     "languageId": "java"
    }
   },
   "source": [
    "# Important Notes\n",
    "\n",
    "<img src=\"{{site.baseurl}}/images/Q4.png\" alt=\"Image 3\">\n"
   ]
  },
  {
   "cell_type": "code",
   "execution_count": 3,
   "metadata": {},
   "outputs": [],
   "source": [
    "// Popcorn Hack 1 \n",
    "\n",
    "public class Cat{\n",
    "    private String sound;\n",
    "\n",
    "    public Cat(String noise){\n",
    "        this.sound = noise;\n",
    "\n",
    "    }\n",
    "\n",
    "\n",
    "}"
   ]
  },
  {
   "cell_type": "code",
   "execution_count": null,
   "metadata": {},
   "outputs": [],
   "source": [
    "// Popcorn Hack 2\n",
    "\n",
    "public class Cat{\n",
    "    private String sound;\n",
    "\n",
    "    public Cat(String noise){\n",
    "        this.sound = noise;\n",
    "\n",
    "    }\n",
    "\n",
    "    public String makeQuietNoise(){\n",
    "        if (sound == null || sound.isEmpty()){\n",
    "            return null;\n",
    "        } else{\n",
    "            return sound.toLowerCase();\n",
    "        }\n",
    "\n",
    "    }\n",
    "    public String makeReverseNoise(){\n",
    "        if (sound == null || sound.isEmpty()){\n",
    "            return null;\n",
    "    } else{\n",
    "        \n",
    "\n",
    "    }\n",
    "\n",
    "\n",
    "}"
   ]
  },
  {
   "cell_type": "code",
   "execution_count": 13,
   "metadata": {},
   "outputs": [
    {
     "name": "stdout",
     "output_type": "stream",
     "text": [
      "7 times 4\n"
     ]
    }
   ],
   "source": [
    "public interface StudyPractice {\n",
    "    String getProblem();\n",
    "    void nextProblem();\n",
    "}\n",
    "\n",
    "public class MultPractice implements StudyPractice {\n",
    "    private int number1;\n",
    "    private int number2;\n",
    "\n",
    "    public MultPractice(int num1, int num2) {\n",
    "        number1 = num1;\n",
    "        number2 = num2;\n",
    "    }\n",
    "\n",
    "    public String getProblem() {\n",
    "        return number1 + \" times \" + number2;\n",
    "    }\n",
    "\n",
    "    public void nextProblem() {\n",
    "        number2++;\n",
    "    }\n",
    "\n",
    "\n",
    "}\n",
    "\n",
    "\n",
    "public static void main(String[] args) {\n",
    "    StudyPractice p1 = new MultPractice(7, 3); \n",
    "           \n",
    "\n",
    "    p1.nextProblem();                          \n",
    "    System.out.println(p1.getProblem());       \n",
    "}\n",
    "main(null);"
   ]
  }
 ],
 "metadata": {
  "kernelspec": {
   "display_name": "Java",
   "language": "java",
   "name": "java"
  },
  "language_info": {
   "codemirror_mode": "java",
   "file_extension": ".jshell",
   "mimetype": "text/x-java-source",
   "name": "java",
   "pygments_lexer": "java",
   "version": "17.0.13+11-Ubuntu-2ubuntu122.04"
  }
 },
 "nbformat": 4,
 "nbformat_minor": 2
}

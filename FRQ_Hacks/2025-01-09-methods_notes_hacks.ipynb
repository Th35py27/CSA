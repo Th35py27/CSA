{
 "cells": [
  {
   "cell_type": "markdown",
   "metadata": {},
   "source": [
    "# Important Notes\n",
    "\n",
    "-  Consists of an access modifier (e.g., public or private), a return type (e.g., void if it doesn’t return a value), a method name, optional parameters enclosed in parentheses, and a method body enclosed in curly braces."
   ]
  },
  {
   "cell_type": "markdown",
   "metadata": {},
   "source": [
    "## Homework"
   ]
  },
  {
   "cell_type": "code",
   "execution_count": null,
   "metadata": {
    "vscode": {
     "languageId": "java"
    }
   },
   "outputs": [],
   "source": [
    "public class MazeSolver{\n",
    "    public static boolean solveMaze(char[][] maze, int startX, int startY){\n",
    "        if (startX < 0 || startX >= maze.length || startY < 0 || startY >= maze[0].length || maze[startX][startY] == '#') {\n",
    "            return false;\n",
    "        }\n",
    "        \n",
    "        if (maze[startX][startY] = \"E\"){\n",
    "            return true;\n",
    "        }\n",
    "\n",
    "\n",
    "\n",
    "        maze[startX][startY] = '#';\n",
    "\n",
    "        if (solveMaze(maze, startX - 1, startY) || \n",
    "            solveMaze(maze, startX + 1, startY) || \n",
    "            solveMaze(maze, startX, startY - 1) || \n",
    "            solveMaze(maze, startX, startY + 1)) { \n",
    "            return true;\n",
    "        }\n",
    "\n",
    "        maze[startX][startY] = ' ';\n",
    "\n",
    "        return false;\n",
    "\n",
    "    public static void main(String[] args) {\n",
    "        char[][] maze = {\n",
    "            {'#', '#', '#', '#', '#'},\n",
    "            {'#', ' ', ' ', '#', 'E'},\n",
    "            {'#', ' ', '#', ' ', '#'},\n",
    "            {'#', ' ', ' ', ' ', '#'},\n",
    "            {'#', '#', '#', '#', '#'}\n",
    "        };\n",
    "\n",
    "        // Test cases\n",
    "        System.out.println(solveMaze(maze, 1, 1)); // Output: true (Path exists)\n",
    "        System.out.println(solveMaze(maze, 2, 3)); // Output: true (Path exists)\n",
    "        System.out.println(solveMaze(maze, 0, 0)); // Output: false (Starts on a wall)\n",
    "        System.out.println(solveMaze(maze, 4, 4)); // Output: false (Blocked by walls)\n",
    "    }\n",
    "}\n",
    "\n",
    "\n",
    "}\n",
    "\n",
    "//MazeSolver.main(null);"
   ]
  },
  {
   "cell_type": "code",
   "execution_count": 30,
   "metadata": {
    "vscode": {
     "languageId": "java"
    }
   },
   "outputs": [
    {
     "name": "stdout",
     "output_type": "stream",
     "text": [
      "false\n",
      "false\n",
      "false\n",
      "false\n"
     ]
    }
   ],
   "source": [
    "public class MazeSolver {\n",
    "\n",
    "    // Recursive function to solve the maze\n",
    "    public static boolean solveMaze(char[][] maze, int startX, int startY) {\n",
    "        // Base case 1: Out of bounds or wall\n",
    "        if (startX < 0 || startX >= maze.length || startY < 0 || startY >= maze[0].length || maze[startX][startY] == '#') {\n",
    "            return false;\n",
    "        }\n",
    "\n",
    "        // Base case 2: If we've reached the exit, return true\n",
    "        if (maze[startX][startY] == 'E') {\n",
    "            return true;\n",
    "        }\n",
    "\n",
    "        // Mark the current cell as visited by changing it to '#'\n",
    "        maze[startX][startY] = '#';\n",
    "\n",
    "        // Recursively explore all four directions: up, down, left, right\n",
    "        boolean found = solveMaze(maze, startX - 1, startY) ||  // Up\n",
    "                        solveMaze(maze, startX + 1, startY) ||  // Down\n",
    "                        solveMaze(maze, startX, startY - 1) ||  // Left\n",
    "                        solveMaze(maze, startX, startY + 1);    // Right\n",
    "\n",
    "        // If no path found, backtrack: restore the current cell to ' '\n",
    "        if (!found) {\n",
    "            maze[startX][startY] = ' '; // Restore the visited cell to open path\n",
    "        }\n",
    "\n",
    "        return found;\n",
    "    }\n",
    "\n",
    "    public static void main(String[] args) {\n",
    "        // Example maze for testing\n",
    "        char[][] maze = {\n",
    "            {'#', '#', '#', '#', '#'},\n",
    "            {'#', ' ', ' ', '#', 'E'},\n",
    "            {'#', ' ', '#', ' ', '#'},\n",
    "            {'#', ' ', ' ', ' ', '#'},\n",
    "            {'#', '#', '#', '#', '#'}\n",
    "        };\n",
    "\n",
    "        // Test cases to check if the function works correctly\n",
    "        System.out.println(solveMaze(maze, 1, 1)); // Expected: true, path exists to 'E'\n",
    "        System.out.println(solveMaze(maze, 1, 2)); // Expected: true, path exists to 'E'\n",
    "        System.out.println(solveMaze(maze, 1, 3)); // Expected: true, path exists to 'E'\n",
    "        System.out.println(solveMaze(maze, 0, 0)); // Expected: false, blocked by walls\n",
    "    }\n",
    "}\n",
    "\n",
    "\n",
    "MazeSolver.main(null);"
   ]
  }
 ],
 "metadata": {
  "kernelspec": {
   "display_name": "Java",
   "language": "java",
   "name": "java"
  },
  "language_info": {
   "codemirror_mode": "java",
   "file_extension": ".jshell",
   "mimetype": "text/x-java-source",
   "name": "Java",
   "pygments_lexer": "java",
   "version": "17.0.13+11-Ubuntu-2ubuntu122.04"
  }
 },
 "nbformat": 4,
 "nbformat_minor": 2
}

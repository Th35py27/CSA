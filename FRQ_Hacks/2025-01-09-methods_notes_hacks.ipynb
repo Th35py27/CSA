{
 "cells": [
  {
   "cell_type": "markdown",
   "metadata": {},
   "source": [
    "# Important Notes\n",
    "\n",
    "-  Consists of an access modifier (e.g., public or private), a return type (e.g., void if it doesn’t return a value), a method name, optional parameters enclosed in parentheses, and a method body enclosed in curly braces."
   ]
  },
  {
   "cell_type": "markdown",
   "metadata": {},
   "source": [
    "## Homework"
   ]
  },
  {
   "cell_type": "code",
   "execution_count": 36,
   "metadata": {
    "vscode": {
     "languageId": "java"
    }
   },
   "outputs": [
    {
     "name": "stdout",
     "output_type": "stream",
     "text": [
      "true\n"
     ]
    }
   ],
   "source": [
    "public class MazeSolver {\n",
    "\n",
    "    public static boolean solveMaze(char[][] maze, int startX, int startY) {\n",
    "        if (startX < 0 || startX >= maze.length || startY < 0 || startY >= maze[0].length || maze[startX][startY] == '#') {\n",
    "            return false;\n",
    "        }\n",
    "\n",
    "        if (maze[startX][startY] == 'E') {\n",
    "            return true;\n",
    "        }\n",
    "\n",
    "        maze[startX][startY] = '#';\n",
    "\n",
    "        boolean found = solveMaze(maze, startX - 1, startY) ||  \n",
    "                        solveMaze(maze, startX + 1, startY) ||  \n",
    "                        solveMaze(maze, startX, startY - 1) ||  \n",
    "                        solveMaze(maze, startX, startY + 1);    \n",
    "        if (!found) {\n",
    "            maze[startX][startY] = ' '; \n",
    "        }\n",
    "\n",
    "        return found;\n",
    "    }\n",
    "\n",
    "    public static void main(String[] args) {\n",
    "        char[][] maze = {\n",
    "            {'#', '#', '#', '#', '#'},\n",
    "            {'#', ' ', ' ', ' ', 'E'},\n",
    "            {'#', ' ', '#', ' ', '#'},\n",
    "            {'#', ' ', ' ', ' ', '#'},\n",
    "            {'#', '#', '#', '#', '#'}\n",
    "        };\n",
    "        System.out.println(solveMaze(maze, 3, 3)); \n",
    "    }\n",
    "}\n",
    "\n",
    "\n",
    "MazeSolver.main(null);"
   ]
  }
 ],
 "metadata": {
  "kernelspec": {
   "display_name": "Java",
   "language": "java",
   "name": "java"
  },
  "language_info": {
   "codemirror_mode": "java",
   "file_extension": ".jshell",
   "mimetype": "text/x-java-source",
   "name": "Java",
   "pygments_lexer": "java",
   "version": "17.0.13+11-Ubuntu-2ubuntu122.04"
  }
 },
 "nbformat": 4,
 "nbformat_minor": 2
}

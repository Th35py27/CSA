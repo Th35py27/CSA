{
 "cells": [
  {
   "cell_type": "raw",
   "metadata": {
    "vscode": {
     "languageId": "raw"
    }
   },
   "source": [
    "---\n",
    "layout: post\n",
    "toc: true\n",
    "title: Unit 1 - Reference Types\n",
    "description: An overview of Reference Types\n",
    "menu: nav/CSA_Units/csa_unit1.html\n",
    "authors: Aniket Chakradeo, Soham Kamat\n",
    "permalink: /csa/unit1/reference\n",
    "---"
   ]
  },
  {
   "cell_type": "markdown",
   "metadata": {},
   "source": [
    "## Refrence Types\n",
    "\n",
    "Reference types in Java include classes, arrays, and interfaces. Unlike primitive types, reference types store addresses (references) to objects rather than the objects themselves.\n",
    "\n",
    "### Classes\n",
    "- Create complex data structures by grouping variables and methods.\n",
    "\n",
    "Example:\n",
    "```java\n",
    "class Person {\n",
    "    String name;\n",
    "    int age;\n",
    "}\n",
    "Person person = new Person(); // `person` reference in stack, `Person` object in heap\n",
    "```\n",
    "### Arrays\n",
    "- Collections of variables of the same type.\n",
    "\n",
    "Example:\n",
    "```java\n",
    "int[] numbers = new int[5]; // `numbers` reference in stack, array in heap\n",
    "```\n",
    "\n",
    "### Popcorn Hack"
   ]
  },
  {
   "cell_type": "code",
   "execution_count": 2,
   "metadata": {},
   "outputs": [
    {
     "ename": "CompilationException",
     "evalue": "",
     "output_type": "error",
     "traceback": [
      "\u001b[1m\u001b[30m|   \u001b[1m\u001b[30m        int myArray = \u001b[0m\u001b[1m\u001b[30m\u001b[41mnew int[] {1, 2, 3, 4, 5}\u001b[0m\u001b[1m\u001b[30m;\u001b[0m",
      "\u001b[1m\u001b[31mincompatible types: int[] cannot be converted to int\u001b[0m",
      "",
      "\u001b[1m\u001b[30m|   \u001b[1m\u001b[30m        System.out.println(\u001b[0m\u001b[1m\u001b[30m\u001b[41mArrays.toString\u001b[0m\u001b[1m\u001b[30m(myArray));\u001b[0m",
      "\u001b[1m\u001b[31mno suitable method found for toString(int)\u001b[0m",
      "\u001b[1m\u001b[31m    method java.util.Arrays.toString(long[]) is not applicable\u001b[0m",
      "\u001b[1m\u001b[31m      (argument mismatch; int cannot be converted to long[])\u001b[0m",
      "\u001b[1m\u001b[31m    method java.util.Arrays.toString(int[]) is not applicable\u001b[0m",
      "\u001b[1m\u001b[31m      (argument mismatch; int cannot be converted to int[])\u001b[0m",
      "\u001b[1m\u001b[31m    method java.util.Arrays.toString(short[]) is not applicable\u001b[0m",
      "\u001b[1m\u001b[31m      (argument mismatch; int cannot be converted to short[])\u001b[0m",
      "\u001b[1m\u001b[31m    method java.util.Arrays.toString(char[]) is not applicable\u001b[0m",
      "\u001b[1m\u001b[31m      (argument mismatch; int cannot be converted to char[])\u001b[0m",
      "\u001b[1m\u001b[31m    method java.util.Arrays.toString(byte[]) is not applicable\u001b[0m",
      "\u001b[1m\u001b[31m      (argument mismatch; int cannot be converted to byte[])\u001b[0m",
      "\u001b[1m\u001b[31m    method java.util.Arrays.toString(boolean[]) is not applicable\u001b[0m",
      "\u001b[1m\u001b[31m      (argument mismatch; int cannot be converted to boolean[])\u001b[0m",
      "\u001b[1m\u001b[31m    method java.util.Arrays.toString(float[]) is not applicable\u001b[0m",
      "\u001b[1m\u001b[31m      (argument mismatch; int cannot be converted to float[])\u001b[0m",
      "\u001b[1m\u001b[31m    method java.util.Arrays.toString(double[]) is not applicable\u001b[0m",
      "\u001b[1m\u001b[31m      (argument mismatch; int cannot be converted to double[])\u001b[0m",
      "\u001b[1m\u001b[31m    method java.util.Arrays.toString(java.lang.Object[]) is not applicable\u001b[0m",
      "\u001b[1m\u001b[31m      (argument mismatch; int cannot be converted to java.lang.Object[])\u001b[0m",
      ""
     ]
    }
   ],
   "source": [
    "\n",
    "public class Main {\n",
    "    public static void main(String[] args) {\n",
    "        // Create a reference type variable of type String\n",
    "        String myString = \"Hello, World!\";\n",
    "        \n",
    "        // Create a reference type variable of type Array\n",
    "        int myArray = new int[] {1, 2, 3, 4, 5};\n",
    "\n",
    "        // Print the values\n",
    "        System.out.println(myString);\n",
    "        System.out.println(Arrays.toString(myArray));\n",
    "    }\n",
    "}\n",
    "\n",
    "Main.main(null);"
   ]
  }
 ],
 "metadata": {
  "kernelspec": {
   "display_name": "Java",
   "language": "java",
   "name": "java"
  },
  "language_info": {
   "codemirror_mode": "java",
   "file_extension": ".jshell",
   "mimetype": "text/x-java-source",
   "name": "java",
   "pygments_lexer": "java",
   "version": "11.0.24+8-post-Ubuntu-1ubuntu322.04"
  }
 },
 "nbformat": 4,
 "nbformat_minor": 2
}

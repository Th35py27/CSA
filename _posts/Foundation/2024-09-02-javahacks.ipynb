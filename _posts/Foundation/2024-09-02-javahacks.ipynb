{
 "cells": [
  {
   "cell_type": "code",
   "execution_count": 28,
   "metadata": {
    "vscode": {
     "languageId": "java"
    }
   },
   "outputs": [
    {
     "name": "stdout",
     "output_type": "stream",
     "text": [
      "Enter number:\n",
      "Number before double: 67\n",
      "Number converted to double: 67.0\n"
     ]
    }
   ],
   "source": [
    "import java.util.Scanner;\n",
    "\n",
    "public class Sheesh {\n",
    "    public static void main(String[] args) {\n",
    "        Scanner number_input = new Scanner(System.in);\n",
    "        System.out.println(\"Enter number:\");\n",
    "        int number = Integer.parseInt(number_input.nextLine());\n",
    "        System.out.println(\"Number before double: \" + number);\n",
    "        double number_double = number;\n",
    "        System.out.println(\"Number converted to double: \" + number_double);\n",
    "    }\n",
    "}\n",
    "\n",
    "Main.main(null);"
   ]
  }
 ],
 "metadata": {
  "kernelspec": {
   "display_name": "Java",
   "language": "java",
   "name": "java"
  },
  "language_info": {
   "codemirror_mode": "java",
   "file_extension": ".jshell",
   "mimetype": "text/x-java-source",
   "name": "Java",
   "pygments_lexer": "java",
   "version": "11.0.24+8-post-Ubuntu-1ubuntu322.04"
  }
 },
 "nbformat": 4,
 "nbformat_minor": 2
}
